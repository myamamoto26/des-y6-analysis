{
 "cells": [
  {
   "cell_type": "code",
   "execution_count": null,
   "id": "84f3603a-3afd-4df5-a5e5-03a2fa376611",
   "metadata": {},
   "outputs": [],
   "source": [
    "import numpy as np\n",
    "from matplotlib import pyplot as plt\n",
    "import matplotlib\n",
    "import glob\n",
    "import os,sys\n",
    "import fitsio as fio\n",
    "from tqdm import tqdm\n",
    "import proplot as pplt\n",
    "import pickle\n",
    "import glob\n",
    "from astropy.io import fits\n",
    "from scipy.optimize import curve_fit\n",
    "import healsparse\n",
    "import healpy as hp\n",
    "import skyproj\n",
    "import pandas as pd\n",
    "\n",
    "%matplotlib inline\n",
    "\n",
    "matplotlib.rcParams.update({'font.size': 20})"
   ]
  },
  {
   "cell_type": "code",
   "execution_count": null,
   "id": "b59aeae7-cb66-40dd-87a8-fbaefe23e9b0",
   "metadata": {},
   "outputs": [],
   "source": []
  },
  {
   "cell_type": "markdown",
   "id": "f717f2a9-c950-481b-a43a-aafc29c03669",
   "metadata": {},
   "source": [
    "## Example"
   ]
  },
  {
   "cell_type": "code",
   "execution_count": null,
   "id": "a952840a-d9fe-4e86-a394-258e3a15469f",
   "metadata": {},
   "outputs": [],
   "source": [
    "import numpy\n",
    "import matplotlib\n",
    "matplotlib.use('Agg')\n",
    "import matplotlib.pyplot as plt\n",
    "plt.switch_backend('agg')\n",
    "import matplotlib.colors as colors\n",
    "\n",
    "bands = ['Y', 'J', 'H', 'F']\n",
    "bandnames = ['Y106', 'J129', 'H158', 'F184']\n",
    "RR = [8.8431, 7.5760, 7.0906, 6.5169]\n",
    "\n",
    "sigma = numpy.zeros((4,48,48))\n",
    "g1 = numpy.zeros((4,48,48))\n",
    "g2 = numpy.zeros((4,48,48))\n",
    "\n",
    "X,Y = numpy.meshgrid(numpy.linspace(0,47,48), numpy.linspace(0,47,48))\n",
    "\n",
    "# load information\n",
    "fc = []\n",
    "for i in range(4):\n",
    "    c1 = c2 = 0\n",
    "    data = numpy.loadtxt('StarCat_' + bands[i] + '.txt')\n",
    "    for ix in range(48):\n",
    "        for iy in range(48):\n",
    "            ind = numpy.logical_and(data[:,2]==ix, data[:,3]==iy)\n",
    "            c2 += numpy.count_nonzero(ind)\n",
    "            ind = numpy.logical_and(ind, data[:,22]>0)\n",
    "            c1 += numpy.count_nonzero(ind)\n",
    "            dd = data[ind,:]\n",
    "            sigma[i,iy,ix] = numpy.mean(dd[:,13])\n",
    "            g1[i,iy,ix] = numpy.mean(dd[:,14])\n",
    "            g2[i,iy,ix] = numpy.mean(dd[:,15])\n",
    "    print(c2,c1,1-c1/c2)\n",
    "    fc.append('{:4.2f}%'.format((1-c1/c2)*100))\n",
    "\n",
    "# now make plot\n",
    "matplotlib.rcParams.update({'font.size': 10})\n",
    "F = plt.figure(figsize=(8,6.5))\n",
    "for i in range(4):\n",
    "    S = F.add_subplot(2,2,i+1)\n",
    "    S.set_title(bandnames[i]) # + ': ' + fc[i] + ' cut')\n",
    "    S.set_xlabel('block x')\n",
    "    S.set_ylabel('block y')\n",
    "    im = S.imshow(sigma[i,:,:]/(RR[i]/8*.11/.025)-1., cmap='RdBu_r', aspect=1, interpolation='nearest', origin='lower',\n",
    "    norm=colors.AsinhNorm(linear_width=3e-4, vmin=-.004, vmax=.004))\n",
    "\n",
    "    phi = 2*numpy.arctan2(g2[i,:,:],g1[i,:,:])\n",
    "    g = numpy.sqrt(g1[i,:,:]**2+g2[i,:,:]**2)\n",
    "    v = g/5e-4\n",
    "    t = sigma[i,:,:]/(RR[i]/8*.11/.025)-1.\n",
    "    t4 = numpy.mean( t.reshape((12,4,12,4)), axis=(1,3))\n",
    "    print(bandnames[i], numpy.amax(v), numpy.mean(t**2)**.5, numpy.mean(t4**2)**.5)\n",
    "    im2 = S.quiver(X,Y,v*numpy.cos(phi),v*numpy.sin(phi), headaxislength=0, headlength=0, headwidth=0, pivot='mid', scale=1.,\n",
    "    scale_units='xy', angles='xy')\n",
    "    F.colorbar(im, orientation='vertical')\n",
    "F.set_tight_layout(True)\n",
    "F.savefig('etmap.pdf')\n",
    "plt.close(F)"
   ]
  }
 ],
 "metadata": {
  "kernelspec": {
   "display_name": "eastlake-dev",
   "language": "python",
   "name": "eastlake-dev"
  },
  "language_info": {
   "codemirror_mode": {
    "name": "ipython",
    "version": 3
   },
   "file_extension": ".py",
   "mimetype": "text/x-python",
   "name": "python",
   "nbconvert_exporter": "python",
   "pygments_lexer": "ipython3",
   "version": "3.8.8"
  }
 },
 "nbformat": 4,
 "nbformat_minor": 5
}
