{
 "cells": [
  {
   "cell_type": "code",
   "execution_count": 1,
   "id": "1bc44557-72dc-4a94-ba35-47998969d95f",
   "metadata": {},
   "outputs": [],
   "source": [
    "import fitsio as fio\n",
    "import numpy as np\n",
    "import os, sys\n",
    "import glob\n",
    "from matplotlib import pyplot as plt\n",
    "import matplotlib\n",
    "import proplot as pplt\n",
    "from tqdm import tqdm\n",
    "import h5py as h5\n",
    "%matplotlib inline\n",
    "\n",
    "def flux2mag(flux, zero_pt=30):\n",
    "    return zero_pt - 2.5 * np.log10(flux)"
   ]
  },
  {
   "cell_type": "markdown",
   "id": "d5a41bbc-fce6-483c-a151-80d2a0fee5eb",
   "metadata": {
    "tags": []
   },
   "source": [
    "# Get Y3 catalog "
   ]
  },
  {
   "cell_type": "code",
   "execution_count": 2,
   "id": "e0cdb26f-46a7-4d44-8ebf-6582f9d72e55",
   "metadata": {},
   "outputs": [],
   "source": [
    "f = h5.File('/global/cfs/cdirs/des/www/y3_cats/Y3_mastercat___UNBLIND___final_v1.1_12_22_20.h5', 'r')"
   ]
  },
  {
   "cell_type": "code",
   "execution_count": 4,
   "id": "ab7ced8b-2ef4-479f-970a-19db1770b032",
   "metadata": {},
   "outputs": [],
   "source": [
    "pz_data = np.array(f.get('/catalog/sompz/unsheared/bhat'))[m]"
   ]
  },
  {
   "cell_type": "code",
   "execution_count": 5,
   "id": "c168fff0-1f0b-4aeb-88df-a57d03421149",
   "metadata": {},
   "outputs": [],
   "source": [
    "msk = (pz_data == 1)"
   ]
  },
  {
   "cell_type": "code",
   "execution_count": 14,
   "id": "bda56a42-87a7-489d-a062-4ea43e2eb323",
   "metadata": {},
   "outputs": [
    {
     "ename": "IndexError",
     "evalue": "only integers, slices (`:`), ellipsis (`...`), numpy.newaxis (`None`) and integer or boolean arrays are valid indices",
     "output_type": "error",
     "traceback": [
      "\u001b[0;31m---------------------------------------------------------------------------\u001b[0m",
      "\u001b[0;31mIndexError\u001b[0m                                Traceback (most recent call last)",
      "Input \u001b[0;32mIn [14]\u001b[0m, in \u001b[0;36m<module>\u001b[0;34m\u001b[0m\n\u001b[0;32m----> 1\u001b[0m \u001b[43mnp\u001b[49m\u001b[38;5;241;43m.\u001b[39;49m\u001b[43marray\u001b[49m\u001b[43m(\u001b[49m\u001b[43mf\u001b[49m\u001b[38;5;241;43m.\u001b[39;49m\u001b[43mget\u001b[49m\u001b[43m(\u001b[49m\u001b[38;5;124;43m'\u001b[39;49m\u001b[38;5;124;43m/catalog/metacal/unsheared/\u001b[39;49m\u001b[38;5;124;43m'\u001b[39;49m\u001b[43m)\u001b[49m\u001b[43m)\u001b[49m\u001b[43m[\u001b[49m\u001b[38;5;124;43m'\u001b[39;49m\u001b[38;5;124;43me_1\u001b[39;49m\u001b[38;5;124;43m'\u001b[39;49m\u001b[43m]\u001b[49m\n",
      "\u001b[0;31mIndexError\u001b[0m: only integers, slices (`:`), ellipsis (`...`), numpy.newaxis (`None`) and integer or boolean arrays are valid indices"
     ]
    }
   ],
   "source": [
    "np.array(f.get('/catalog/metacal/unsheared/'))['e_1']"
   ]
  },
  {
   "cell_type": "code",
   "execution_count": 20,
   "id": "6268807a-8494-4987-9645-4b83585b6a04",
   "metadata": {},
   "outputs": [
    {
     "data": {
      "text/plain": [
       "<KeysViewHDF5 ['coadd_object_id', 'gold', 'maglim', 'mask', 'metacal', 'redmagic', 'select', 'select_1m', 'select_1m_bin1', 'select_1m_bin2', 'select_1m_bin3', 'select_1m_bin4', 'select_1p', 'select_1p_bin1', 'select_1p_bin2', 'select_1p_bin3', 'select_1p_bin4', 'select_2m', 'select_2m_bin1', 'select_2m_bin2', 'select_2m_bin3', 'select_2m_bin4', 'select_2p', 'select_2p_bin1', 'select_2p_bin2', 'select_2p_bin3', 'select_2p_bin4', 'select_bin1', 'select_bin2', 'select_bin3', 'select_bin4']>"
      ]
     },
     "execution_count": 20,
     "metadata": {},
     "output_type": "execute_result"
    }
   ],
   "source": [
    "f.get('/index/').keys()"
   ]
  },
  {
   "cell_type": "code",
   "execution_count": 5,
   "id": "adbe0105-3bfd-44c5-8f2e-1003ef574a14",
   "metadata": {},
   "outputs": [],
   "source": [
    "m = np.array(f.get('/index/select'))\n",
    "m_1p = np.array(f.get('/index/select_1p'))"
   ]
  },
  {
   "cell_type": "code",
   "execution_count": null,
   "id": "793cf908-fb68-4803-a268-0907db325a1f",
   "metadata": {},
   "outputs": [
    {
     "name": "stdout",
     "output_type": "stream",
     "text": [
      "ERROR! Session/line number was not unique in database. History logging moved to new session 502\n"
     ]
    }
   ],
   "source": [
    "m = f['/index/select'][:]"
   ]
  },
  {
   "cell_type": "code",
   "execution_count": 6,
   "id": "59bbaeb8-311a-4f7c-a2ef-288d63e875d9",
   "metadata": {},
   "outputs": [],
   "source": [
    "d_1p = f.get('/catalog/metacal/sheared_1p')\n",
    "d_1m = f.get('/catalog/metacal/sheared_1m')\n",
    "d_2p = f.get('/catalog/metacal/sheared_2p')\n",
    "d_2m = f.get('/catalog/metacal/sheared_2m')\n",
    "d_noshear = f.get('/catalog/metacal/unsheared')\n",
    "# d_gold = f.get('/catalog/gold')"
   ]
  },
  {
   "cell_type": "code",
   "execution_count": 11,
   "id": "0cdc0dbd-ece5-42d0-8360-d0d99bc07f6b",
   "metadata": {
    "tags": []
   },
   "outputs": [
    {
     "name": "stdout",
     "output_type": "stream",
     "text": [
      "[32.7504844  41.16026567 44.41307    ... 40.2746443  45.48614938\n",
      " 11.63795655] [32.7504844  41.16026567 42.09043925 ... 40.2746443  45.48614938\n",
      " 11.01259931]\n"
     ]
    }
   ],
   "source": [
    "w = np.array(d_noshear['weight'])[m]\n",
    "w_1p = np.array(d_1p['weight'])[m_1p]\n",
    "print(w, w_1p)"
   ]
  },
  {
   "cell_type": "code",
   "execution_count": null,
   "id": "05b73fce-c2b9-41e2-9854-7a7f7ae1ebdc",
   "metadata": {
    "tags": []
   },
   "outputs": [],
   "source": [
    "d_ = d_noshear['ra'][m]"
   ]
  },
  {
   "cell_type": "code",
   "execution_count": null,
   "id": "3accf0e2-9d48-4df6-a260-a5ced98ab8c9",
   "metadata": {},
   "outputs": [],
   "source": [
    "d_noshear.keys()"
   ]
  },
  {
   "cell_type": "code",
   "execution_count": null,
   "id": "8a26a5f6-d582-44e0-8efc-f72b6d295ea0",
   "metadata": {},
   "outputs": [],
   "source": [
    "gold_flags_fore = np.array(d_gold.get('flags_foreground'))\n",
    "gold_flags_badregion = np.array(d_gold.get('flags_badregions'))\n",
    "gold_flags_gold = np.array(d_gold.get('flags_gold'))\n",
    "gold_flags_footprint = np.array(d_gold.get('flags_footprint'))\n",
    "\n",
    "\n",
    "msk = ((gold_flags_fore == 0) & \n",
    "       (gold_flags_badregion < 2) & \n",
    "       (gold_flags_gold < 8) & \n",
    "       (gold_flags_footprint == 1))\n",
    "del gold_flags_fore\n",
    "del gold_flags_badregion\n",
    "del gold_flags_gold\n",
    "del gold_flags_footprint"
   ]
  },
  {
   "cell_type": "code",
   "execution_count": null,
   "id": "4a4861a1-e3d6-47e2-b79f-c239e905f91c",
   "metadata": {},
   "outputs": [],
   "source": [
    "flags = np.array(d_noshear.get('flags'))[msk]\n",
    "snr = np.array(d_noshear.get('snr'))[msk]\n",
    "size_ratio = np.array(d_noshear.get('size_ratio'))[msk]\n",
    "T = np.array(d_noshear.get('T'))[msk]\n",
    "mag_r = flux2mag(np.array(d_noshear.get('flux_r')))[msk]\n",
    "mag_i = flux2mag(np.array(d_noshear.get('flux_i')))[msk]\n",
    "mag_z = flux2mag(np.array(d_noshear.get('flux_z')))[msk]\n",
    "e1 = np.array(d_noshear.get('e_1'))[msk]\n",
    "e2 = np.array(d_noshear.get('e_2'))[msk]"
   ]
  },
  {
   "cell_type": "code",
   "execution_count": null,
   "id": "c2b3fa9b-2bac-427b-a43d-59738492a3e1",
   "metadata": {},
   "outputs": [],
   "source": [
    "print(len(e1))"
   ]
  },
  {
   "cell_type": "code",
   "execution_count": null,
   "id": "c2c2f94b-e209-4f42-a90b-b6831beb33b6",
   "metadata": {},
   "outputs": [],
   "source": [
    "# Cuts based on https://cdcvs.fnal.gov/redmine/projects/des-sc/wiki/Y3kp_catalogs\n",
    "rmi = mag_r - mag_i\n",
    "zmi = mag_z - mag_i\n",
    "msk_mcal = ((flags == 0) & \n",
    "       (snr > 10) & \n",
    "       (snr < 1000) &\n",
    "       (size_ratio > 0.5) &\n",
    "       (T < 10) &\n",
    "       ~((T > 2) & (snr < 30)) &\n",
    "       ((mag_i > 18) & (mag_i < 23.5)) & \n",
    "       ((mag_r > 15) & (mag_r < 26)) &\n",
    "       ((mag_z > 15) & (mag_z < 26)) &\n",
    "       ((rmi > -1.5) & (rmi < 4)) &\n",
    "       ((zmi > -1.5) & (zmi < 4)) &\n",
    "       ~((np.log10(T) < (22.5 - mag_r)/2.5) & (np.sqrt(e1**2 + e2**2) > 0.8)))\n",
    "\n",
    "del flags\n",
    "del snr\n",
    "del size_ratio\n",
    "del T\n",
    "del mag_r\n",
    "del mag_i\n",
    "del mag_z"
   ]
  },
  {
   "cell_type": "code",
   "execution_count": null,
   "id": "9768019c-90fd-40b9-9bb6-8383fb8f4762",
   "metadata": {},
   "outputs": [],
   "source": [
    "len(e1[msk_mcal])"
   ]
  },
  {
   "cell_type": "code",
   "execution_count": null,
   "id": "f81cc51f-0354-4ffc-a2c7-8b2a7ac4a8b9",
   "metadata": {},
   "outputs": [],
   "source": [
    "R11 = np.array(d_noshear.get('R11'))[msk][msk_mcal]\n",
    "R22 = np.array(d_noshear.get('R22'))[msk][msk_mcal]\n",
    "w = np.array(d_noshear.get('weight'))[msk][msk_mcal]\n",
    "g1_cov = np.array(d_noshear.get('covmat_1_1'))[msk][msk_mcal]\n",
    "g2_cov = np.array(d_noshear.get('covmat_2_2'))[msk][msk_mcal]\n",
    "ra = np.array(d_noshear.get('ra'))[msk][msk_mcal]\n",
    "dec = np.array(d_noshear.get('dec'))[msk][msk_mcal]"
   ]
  },
  {
   "cell_type": "code",
   "execution_count": 8,
   "id": "14f047cb-8624-4f0f-8eb1-8c65312c698f",
   "metadata": {},
   "outputs": [],
   "source": [
    "e1 = np.array(d_noshear.get('e_1'))[m]\n",
    "e2 = np.array(d_noshear.get('e_2'))[m]\n",
    "T = np.array(d_noshear.get('T'))[m]\n",
    "size_ratio = np.array(d_noshear.get('size_ratio'))[m]\n",
    "s2n = np.array(d_noshear.get('snr'))[m]\n",
    "R11 = np.array(d_noshear.get('R11'))[m]\n",
    "R22 = np.array(d_noshear.get('R22'))[m]\n",
    "w = np.array(d_noshear.get('weight'))[m]\n",
    "g1_cov = np.array(d_noshear.get('covmat_1_1'))[m]\n",
    "g2_cov = np.array(d_noshear.get('covmat_2_2'))[m]\n",
    "ra = np.array(d_noshear.get('ra'))[m]\n",
    "dec = np.array(d_noshear.get('dec'))[m]"
   ]
  },
  {
   "cell_type": "code",
   "execution_count": null,
   "id": "2b7aaf57-464e-486b-86ea-a0a8c2ab458f",
   "metadata": {},
   "outputs": [],
   "source": [
    "mag_g = flux2mag(np.array(d_gold.get('SOF_CM_MAG_CORRECTED_G')))[m]\n",
    "mag_i = flux2mag(np.array(d_gold.get('SOF_CM_MAG_CORRECTED_I')))[m]"
   ]
  },
  {
   "cell_type": "code",
   "execution_count": null,
   "id": "bde67c60-a731-4dc0-b0de-d2d90760c0c1",
   "metadata": {},
   "outputs": [],
   "source": [
    "len(e1)"
   ]
  },
  {
   "cell_type": "code",
   "execution_count": 9,
   "id": "70779928-02be-49d8-af78-fa837329d669",
   "metadata": {},
   "outputs": [
    {
     "name": "stdout",
     "output_type": "stream",
     "text": [
      "ERROR! Session/line number was not unique in database. History logging moved to new session 503\n"
     ]
    },
    {
     "ename": "NameError",
     "evalue": "name 'mag_g' is not defined",
     "output_type": "error",
     "traceback": [
      "\u001b[0;31m---------------------------------------------------------------------------\u001b[0m",
      "\u001b[0;31mNameError\u001b[0m                                 Traceback (most recent call last)",
      "Input \u001b[0;32mIn [9]\u001b[0m, in \u001b[0;36m<module>\u001b[0;34m\u001b[0m\n\u001b[1;32m     12\u001b[0m res[\u001b[38;5;124m'\u001b[39m\u001b[38;5;124mra\u001b[39m\u001b[38;5;124m'\u001b[39m] \u001b[38;5;241m=\u001b[39m ra\n\u001b[1;32m     13\u001b[0m res[\u001b[38;5;124m'\u001b[39m\u001b[38;5;124mdec\u001b[39m\u001b[38;5;124m'\u001b[39m] \u001b[38;5;241m=\u001b[39m dec\n\u001b[0;32m---> 14\u001b[0m res[\u001b[38;5;124m'\u001b[39m\u001b[38;5;124mmag_g\u001b[39m\u001b[38;5;124m'\u001b[39m] \u001b[38;5;241m=\u001b[39m \u001b[43mmag_g\u001b[49m\n\u001b[1;32m     15\u001b[0m res[\u001b[38;5;124m'\u001b[39m\u001b[38;5;124mmag_i\u001b[39m\u001b[38;5;124m'\u001b[39m] \u001b[38;5;241m=\u001b[39m mag_i\n",
      "\u001b[0;31mNameError\u001b[0m: name 'mag_g' is not defined"
     ]
    }
   ],
   "source": [
    "res = np.zeros(len(e1), dtype=[('ra','f8'), ('dec','f8'), ('g1','f8'), ('g2','f8'), ('T','f8'), ('size_ratio','f8'), ('s2n','f8'), ('R11','f8'), ('R22','f8'), ('w','f8'), ('g1_cov','f8'), ('g2_cov','f8'), ('mag_g', 'f8'), ('mag_i', 'f8')])\n",
    "res['g1'] = e1\n",
    "res['g2'] = e2\n",
    "res['T'] = T\n",
    "res['size_ratio'] = size_ratio\n",
    "res['s2n'] = s2n\n",
    "res['R11'] = R11\n",
    "res['R22'] = R22\n",
    "res['w'] = w\n",
    "res['g1_cov'] = g1_cov\n",
    "res['g2_cov'] = g2_cov\n",
    "res['ra'] = ra\n",
    "res['dec'] = dec\n",
    "res['mag_g'] = mag_g\n",
    "res['mag_i'] = mag_i"
   ]
  },
  {
   "cell_type": "code",
   "execution_count": null,
   "id": "011ed7f3-5ae8-4d67-8f58-173932d898a0",
   "metadata": {},
   "outputs": [],
   "source": [
    "fio.write('/global/cscratch1/sd/myamamot/des-y6-analysis/y6_measurement/y3_mcal_catalog_matched.fits', res)"
   ]
  },
  {
   "cell_type": "markdown",
   "id": "6f76200e-446c-4cd8-9a1d-3bb77b11ce00",
   "metadata": {},
   "source": [
    "# Compare Y3 and Y6 data"
   ]
  },
  {
   "cell_type": "code",
   "execution_count": 2,
   "id": "90e3c8eb-a90f-4a2a-aa2f-c6aae13a0e95",
   "metadata": {},
   "outputs": [],
   "source": [
    "d_y6 = fio.read('/global/cscratch1/sd/myamamot/des-y6-analysis/y6_measurement/y6_catalog4matching.fits')\n",
    "# d_y3 = fio.read('/global/cscratch1/sd/myamamot/des-y6-analysis/y6_measurement/y3_mcal_catalog_matched.fits')"
   ]
  },
  {
   "cell_type": "code",
   "execution_count": 3,
   "id": "cbd053e0-d65f-4667-b614-e00624872a34",
   "metadata": {},
   "outputs": [
    {
     "name": "stdout",
     "output_type": "stream",
     "text": [
      "100204026 100204026\n"
     ]
    }
   ],
   "source": [
    "y6_ind = np.load('/global/cscratch1/sd/myamamot/des-y6-analysis/y6_measurement/knn_all_matched_index.npy')\n",
    "y6_ind_unique, unique_ind = np.unique(y6_ind, return_index=True)\n",
    "matched_dist = np.load('/global/cscratch1/sd/myamamot/des-y6-analysis/y6_measurement/knn_all_matched_dist.npy')\n",
    "matched_dist_unique = matched_dist[unique_ind]\n",
    "print(len(y6_ind), len(matched_dist))"
   ]
  },
  {
   "cell_type": "code",
   "execution_count": 5,
   "id": "22b36ed9-d3b9-4406-ac41-9db485f5b334",
   "metadata": {},
   "outputs": [
    {
     "name": "stdout",
     "output_type": "stream",
     "text": [
      "95750856 100204026\n"
     ]
    }
   ],
   "source": [
    "print(len(d_y6), len(matched_dist))"
   ]
  },
  {
   "cell_type": "code",
   "execution_count": 7,
   "id": "c12d4d2b-4f0e-4d2b-ad48-67335b5dc893",
   "metadata": {},
   "outputs": [
    {
     "data": {
      "image/png": "[encoded data removed]",
      "text/plain": [
       "<Figure size 400x300 with 1 Axes>"
      ]
     },
     "metadata": {
      "image/png": {
       "height": 300,
       "width": 400
      }
     },
     "output_type": "display_data"
    }
   ],
   "source": [
    "\n",
    "matplotlib.rcParams.update({'font.size': 10})\n",
    "fig,ax = plt.subplots(figsize=(4,3))\n",
    "values, bins, _ = ax.hist(matched_dist*3600, bins=100000, histtype='step', log=True, density=True)\n",
    "ax.vlines(3, 0, 2.8e2, ls='--', color='g', label='DES pixel scale')\n",
    "# ax.set_xlim(-0.1, 60)\n",
    "ax.set_xscale('log')\n",
    "# ax.set_yscale('log')\n",
    "ax.set_xlabel('matching radius [arcsec]')\n",
    "ax.set_ylabel('log density')\n",
    "ax.legend()\n",
    "\n",
    "plt.tight_layout()"
   ]
  },
  {
   "cell_type": "code",
   "execution_count": 8,
   "id": "f95d39df-cb2f-4302-b24e-dfdb1f20b16f",
   "metadata": {},
   "outputs": [
    {
     "name": "stdout",
     "output_type": "stream",
     "text": [
      "92.04350332191243\n"
     ]
    }
   ],
   "source": [
    "diff = np.absolute(bins-3)\n",
    "ind = np.argmin(diff)\n",
    "\n",
    "area = sum(np.diff(bins[:ind])*values[:ind-1])\n",
    "print(area*100)"
   ]
  },
  {
   "cell_type": "markdown",
   "id": "6db6326a-40cd-4a95-a870-17c7040ea3e4",
   "metadata": {},
   "source": [
    "## From slice info, visualize the objects"
   ]
  },
  {
   "cell_type": "code",
   "execution_count": 7,
   "id": "b0415193-967e-4375-a463-1e369e0cf1fe",
   "metadata": {},
   "outputs": [],
   "source": [
    "# any object whose matching distance is large.\n",
    "msk_dist = matched_dist_unique*3600 > 1\n",
    "msk_ind = y6_ind_unique[msk_dist]\n",
    "d_objs = d_y6[msk_ind]"
   ]
  },
  {
   "cell_type": "code",
   "execution_count": 8,
   "id": "9ca55ebc-8fc1-437a-8c91-ff851343e081",
   "metadata": {},
   "outputs": [],
   "source": [
    "np.random.seed(314)\n",
    "d_random = np.random.choice(d_objs, size=20)"
   ]
  },
  {
   "cell_type": "code",
   "execution_count": 29,
   "id": "663f400e-26e2-4e1c-9793-2aaf25f8f1fb",
   "metadata": {},
   "outputs": [
    {
     "name": "stdout",
     "output_type": "stream",
     "text": [
      "Connecting to DB ** desoper ** ...\n",
      "\u001b[31mError when trying to connect to database: DPI-1047: Cannot locate a 64-bit Oracle Client library: \"libclntsh.so: cannot open shared object file: No such file or directory\". See https://cx-oracle.readthedocs.io/en/latest/user_guide/installation.html for help\u001b[0m\n",
      "\n",
      "   Retrying...\n",
      "\n",
      "\n",
      " ** Could not successfully connect to DB. Try again later. Aborting. ** \n",
      "\n"
     ]
    },
    {
     "ename": "UnboundLocalError",
     "evalue": "local variable 'mlist' referenced before assignment",
     "output_type": "error",
     "traceback": [
      "\u001b[0;31m---------------------------------------------------------------------------\u001b[0m",
      "\u001b[0;31mException\u001b[0m                                 Traceback (most recent call last)",
      "File \u001b[0;32m~/miniforge3/envs/eastlake-dev/lib/python3.8/site-packages/des_y6utils/viz.py:122\u001b[0m, in \u001b[0;36mget_ngmix_meds_reader\u001b[0;34m(tilename, pz_tag, bands)\u001b[0m\n\u001b[1;32m    121\u001b[0m     bands \u001b[38;5;241m=\u001b[39m [\u001b[38;5;124m\"\u001b[39m\u001b[38;5;124mg\u001b[39m\u001b[38;5;124m\"\u001b[39m, \u001b[38;5;124m\"\u001b[39m\u001b[38;5;124mr\u001b[39m\u001b[38;5;124m\"\u001b[39m, \u001b[38;5;124m\"\u001b[39m\u001b[38;5;124mi\u001b[39m\u001b[38;5;124m\"\u001b[39m, \u001b[38;5;124m\"\u001b[39m\u001b[38;5;124mz\u001b[39m\u001b[38;5;124m\"\u001b[39m]\n\u001b[0;32m--> 122\u001b[0m meds_files \u001b[38;5;241m=\u001b[39m \u001b[43mget_meds_files_for_tile\u001b[49m\u001b[43m(\u001b[49m\u001b[43mtilename\u001b[49m\u001b[43m,\u001b[49m\u001b[43m \u001b[49m\u001b[43mpz_tag\u001b[49m\u001b[38;5;241;43m=\u001b[39;49m\u001b[43mpz_tag\u001b[49m\u001b[43m,\u001b[49m\u001b[43m \u001b[49m\u001b[43mbands\u001b[49m\u001b[38;5;241;43m=\u001b[39;49m\u001b[43mbands\u001b[49m\u001b[43m)\u001b[49m\n\u001b[1;32m    123\u001b[0m mlist \u001b[38;5;241m=\u001b[39m [\n\u001b[1;32m    124\u001b[0m     ngmix\u001b[38;5;241m.\u001b[39mmedsreaders\u001b[38;5;241m.\u001b[39mNGMixMEDS(meds_files[band])\n\u001b[1;32m    125\u001b[0m     \u001b[38;5;28;01mfor\u001b[39;00m band \u001b[38;5;129;01min\u001b[39;00m bands\n\u001b[1;32m    126\u001b[0m ]\n",
      "File \u001b[0;32m~/miniforge3/envs/eastlake-dev/lib/python3.8/site-packages/des_y6utils/viz.py:78\u001b[0m, in \u001b[0;36mget_meds_files_for_tile\u001b[0;34m(tilename, pz_tag, bands)\u001b[0m\n\u001b[1;32m     77\u001b[0m os\u001b[38;5;241m.\u001b[39mmakedirs(\u001b[38;5;124m\"\u001b[39m\u001b[38;5;124m./data\u001b[39m\u001b[38;5;124m\"\u001b[39m, exist_ok\u001b[38;5;241m=\u001b[39m\u001b[38;5;28;01mTrue\u001b[39;00m)\n\u001b[0;32m---> 78\u001b[0m all_meds_files \u001b[38;5;241m=\u001b[39m \u001b[43m_get_meds_files_mapping\u001b[49m\u001b[43m(\u001b[49m\u001b[43mpz_tag\u001b[49m\u001b[43m)\u001b[49m\u001b[38;5;241m.\u001b[39mget(tilename, {})\n\u001b[1;32m     79\u001b[0m meds_files \u001b[38;5;241m=\u001b[39m {}\n",
      "File \u001b[0;32m~/miniforge3/envs/eastlake-dev/lib/python3.8/site-packages/des_y6utils/viz.py:14\u001b[0m, in \u001b[0;36m_get_meds_files_mapping\u001b[0;34m(pz_tag)\u001b[0m\n\u001b[1;32m     13\u001b[0m     \u001b[38;5;28;01mimport\u001b[39;00m \u001b[38;5;21;01measyaccess\u001b[39;00m \u001b[38;5;28;01mas\u001b[39;00m \u001b[38;5;21;01mea\u001b[39;00m\n\u001b[0;32m---> 14\u001b[0m     conn \u001b[38;5;241m=\u001b[39m \u001b[43mea\u001b[49m\u001b[38;5;241;43m.\u001b[39;49m\u001b[43mconnect\u001b[49m\u001b[43m(\u001b[49m\u001b[43msection\u001b[49m\u001b[38;5;241;43m=\u001b[39;49m\u001b[38;5;124;43m'\u001b[39;49m\u001b[38;5;124;43mdesoper\u001b[39;49m\u001b[38;5;124;43m'\u001b[39;49m\u001b[43m)\u001b[49m\n\u001b[1;32m     16\u001b[0m     query \u001b[38;5;241m=\u001b[39m \u001b[38;5;124m\"\"\"\u001b[39m\u001b[38;5;130;01m\\\u001b[39;00m\n\u001b[1;32m     17\u001b[0m \u001b[38;5;124mselect\u001b[39m\n\u001b[1;32m     18\u001b[0m \u001b[38;5;124m    concat(fai.filename, fai.compression) as filename,\u001b[39m\n\u001b[0;32m   (...)\u001b[0m\n\u001b[1;32m     33\u001b[0m \u001b[38;5;124m    and d1.filetype = \u001b[39m\u001b[38;5;124m'\u001b[39m\u001b[38;5;124mcoadd_pizza_cutter\u001b[39m\u001b[38;5;124m'\u001b[39m\n\u001b[1;32m     34\u001b[0m \u001b[38;5;124m\"\"\"\u001b[39m \u001b[38;5;241m%\u001b[39m (pz_tag)\n",
      "File \u001b[0;32m~/miniforge3/envs/eastlake-dev/lib/python3.8/site-packages/easyaccess/eautils/python_api.py:104\u001b[0m, in \u001b[0;36mconnect.__init__\u001b[0;34m(self, section, user, passwd, quiet, refresh)\u001b[0m\n\u001b[1;32m    103\u001b[0m     desconf \u001b[38;5;241m=\u001b[39m config_mod\u001b[38;5;241m.\u001b[39mget_desconfig(desfile, db)\n\u001b[0;32m--> 104\u001b[0m \u001b[43measy_or\u001b[49m\u001b[38;5;241;43m.\u001b[39;49m\u001b[38;5;21;43m__init__\u001b[39;49m\u001b[43m(\u001b[49m\u001b[38;5;28;43mself\u001b[39;49m\u001b[43m,\u001b[49m\u001b[43m \u001b[49m\u001b[43mconf\u001b[49m\u001b[43m,\u001b[49m\u001b[43m \u001b[49m\u001b[43mdesconf\u001b[49m\u001b[43m,\u001b[49m\u001b[43m \u001b[49m\u001b[43mdb\u001b[49m\u001b[43m,\u001b[49m\u001b[43m \u001b[49m\u001b[43minteractive\u001b[49m\u001b[38;5;241;43m=\u001b[39;49m\u001b[38;5;28;43;01mFalse\u001b[39;49;00m\u001b[43m,\u001b[49m\u001b[43m \u001b[49m\u001b[43mquiet\u001b[49m\u001b[38;5;241;43m=\u001b[39;49m\u001b[43mquiet\u001b[49m\u001b[43m,\u001b[49m\u001b[43m \u001b[49m\u001b[43mpymod\u001b[49m\u001b[38;5;241;43m=\u001b[39;49m\u001b[38;5;28;43;01mTrue\u001b[39;49;00m\u001b[43m)\u001b[49m\n\u001b[1;32m    105\u001b[0m \u001b[38;5;28;01mtry\u001b[39;00m:\n",
      "File \u001b[0;32m~/miniforge3/envs/eastlake-dev/lib/python3.8/site-packages/easyaccess/easyaccess.py:215\u001b[0m, in \u001b[0;36measy_or.__init__\u001b[0;34m(self, conf, desconf, db, interactive, quiet, refresh, pymod)\u001b[0m\n\u001b[1;32m    214\u001b[0m \u001b[38;5;28;01mif\u001b[39;00m pymod:\n\u001b[0;32m--> 215\u001b[0m     \u001b[38;5;28;01mraise\u001b[39;00m \u001b[38;5;167;01mException\u001b[39;00m(\u001b[38;5;124m'\u001b[39m\u001b[38;5;124mNot connected to the DB\u001b[39m\u001b[38;5;124m'\u001b[39m)\n\u001b[1;32m    216\u001b[0m \u001b[38;5;28;01melse\u001b[39;00m:\n",
      "\u001b[0;31mException\u001b[0m: Not connected to the DB",
      "\nDuring handling of the above exception, another exception occurred:\n",
      "\u001b[0;31mUnboundLocalError\u001b[0m                         Traceback (most recent call last)",
      "Input \u001b[0;32mIn [29]\u001b[0m, in \u001b[0;36m<module>\u001b[0;34m\u001b[0m\n\u001b[1;32m     18\u001b[0m sx \u001b[38;5;241m=\u001b[39m d_[\u001b[38;5;124m'\u001b[39m\u001b[38;5;124mx\u001b[39m\u001b[38;5;124m'\u001b[39m] \u001b[38;5;241m-\u001b[39m scol\n\u001b[1;32m     19\u001b[0m sy \u001b[38;5;241m=\u001b[39m d_[\u001b[38;5;124m'\u001b[39m\u001b[38;5;124my\u001b[39m\u001b[38;5;124m'\u001b[39m] \u001b[38;5;241m-\u001b[39m srow\n\u001b[0;32m---> 21\u001b[0m \u001b[38;5;28;01mwith\u001b[39;00m viz\u001b[38;5;241m.\u001b[39mget_ngmix_meds_reader(tilename) \u001b[38;5;28;01mas\u001b[39;00m mbmeds:\n\u001b[1;32m     22\u001b[0m     mbobs \u001b[38;5;241m=\u001b[39m mbmeds\u001b[38;5;241m.\u001b[39mget_mbobs(slice_id)\n\u001b[1;32m     23\u001b[0m     \u001b[38;5;28;01mfor\u001b[39;00m ii \u001b[38;5;129;01min\u001b[39;00m \u001b[38;5;28mrange\u001b[39m(\u001b[38;5;241m1\u001b[39m,\u001b[38;5;241m2\u001b[39m): \u001b[38;5;66;03m# g: 0, r: 1, i: 2, z: 3\u001b[39;00m\n",
      "File \u001b[0;32m~/miniforge3/envs/eastlake-dev/lib/python3.8/contextlib.py:113\u001b[0m, in \u001b[0;36m_GeneratorContextManager.__enter__\u001b[0;34m(self)\u001b[0m\n\u001b[1;32m    111\u001b[0m \u001b[38;5;28;01mdel\u001b[39;00m \u001b[38;5;28mself\u001b[39m\u001b[38;5;241m.\u001b[39margs, \u001b[38;5;28mself\u001b[39m\u001b[38;5;241m.\u001b[39mkwds, \u001b[38;5;28mself\u001b[39m\u001b[38;5;241m.\u001b[39mfunc\n\u001b[1;32m    112\u001b[0m \u001b[38;5;28;01mtry\u001b[39;00m:\n\u001b[0;32m--> 113\u001b[0m     \u001b[38;5;28;01mreturn\u001b[39;00m \u001b[38;5;28;43mnext\u001b[39;49m\u001b[43m(\u001b[49m\u001b[38;5;28;43mself\u001b[39;49m\u001b[38;5;241;43m.\u001b[39;49m\u001b[43mgen\u001b[49m\u001b[43m)\u001b[49m\n\u001b[1;32m    114\u001b[0m \u001b[38;5;28;01mexcept\u001b[39;00m \u001b[38;5;167;01mStopIteration\u001b[39;00m:\n\u001b[1;32m    115\u001b[0m     \u001b[38;5;28;01mraise\u001b[39;00m \u001b[38;5;167;01mRuntimeError\u001b[39;00m(\u001b[38;5;124m\"\u001b[39m\u001b[38;5;124mgenerator didn\u001b[39m\u001b[38;5;124m'\u001b[39m\u001b[38;5;124mt yield\u001b[39m\u001b[38;5;124m\"\u001b[39m) \u001b[38;5;28;01mfrom\u001b[39;00m \u001b[38;5;28mNone\u001b[39m\n",
      "File \u001b[0;32m~/miniforge3/envs/eastlake-dev/lib/python3.8/site-packages/des_y6utils/viz.py:129\u001b[0m, in \u001b[0;36mget_ngmix_meds_reader\u001b[0;34m(tilename, pz_tag, bands)\u001b[0m\n\u001b[1;32m    127\u001b[0m     \u001b[38;5;28;01myield\u001b[39;00m ngmix\u001b[38;5;241m.\u001b[39mmedsreaders\u001b[38;5;241m.\u001b[39mMultiBandNGMixMEDS(mlist)\n\u001b[1;32m    128\u001b[0m \u001b[38;5;28;01mfinally\u001b[39;00m:\n\u001b[0;32m--> 129\u001b[0m     \u001b[38;5;28;01mfor\u001b[39;00m m \u001b[38;5;129;01min\u001b[39;00m \u001b[43mmlist\u001b[49m:\n\u001b[1;32m    130\u001b[0m         m\u001b[38;5;241m.\u001b[39mclose()\n",
      "\u001b[0;31mUnboundLocalError\u001b[0m: local variable 'mlist' referenced before assignment"
     ]
    },
    {
     "data": {
      "image/png": "[encoded data removed]",
      "text/plain": [
       "<Figure size 400x400 with 1 Axes>"
      ]
     },
     "metadata": {
      "image/png": {
       "height": 400,
       "width": 400
      }
     },
     "output_type": "display_data"
    }
   ],
   "source": [
    "from des_y6utils import viz, mdet\n",
    "import meds\n",
    "import ngmix\n",
    "from pizza_cutter.slice_utils.locate import build_slice_locations\n",
    "fig,ax = plt.subplots()\n",
    "\n",
    "# meds_files = np.array(glob.glob(\"/global/cfs/cdirs/des/myamamot/pizza-slice/data/*_r_pizza-cutter-slices.fits.fz\"))\n",
    "tnames = np.array([f.split('/')[-1].split('_')[0] for f in meds_files])\n",
    "rows, cols, srows, scols = build_slice_locations(central_size=100, buffer_size=50, image_width=10000)\n",
    "for obj,tilename in enumerate(d_random['tilename']):\n",
    "\n",
    "    # meds_file = meds_files[tnames == tilename][0]\n",
    "    d_ = d_random[obj]\n",
    "    slice_id = int(d_['slice_id'])\n",
    "    scol = scols[slice_id]\n",
    "    srow = srows[slice_id]\n",
    "    \n",
    "    sx = d_['x'] - scol\n",
    "    sy = d_['y'] - srow\n",
    "    \n",
    "    with viz.get_ngmix_meds_reader(tilename) as mbmeds:\n",
    "        mbobs = mbmeds.get_mbobs(slice_id)\n",
    "        for ii in range(1,2): # g: 0, r: 1, i: 2, z: 3\n",
    "            im = mbobs[ii][0].image\n",
    "            im_cutout = im[sy-32:sy+32, sx-32:sx+32]\n",
    "            # fio.write('./data/pg_cuts/'+tilename+'_'+bands[ii]+str(obj)+'.fits', im_cutout) \n",
    "            ax.imshow(im_cutout)\n",
    "    break"
   ]
  },
  {
   "cell_type": "code",
   "execution_count": null,
   "id": "fd5ac679-18c5-4598-b9bb-4e331f165fb0",
   "metadata": {},
   "outputs": [],
   "source": []
  }
 ],
 "metadata": {
  "kernelspec": {
   "display_name": "eastlake-dev",
   "language": "python",
   "name": "eastlake-dev"
  },
  "language_info": {
   "codemirror_mode": {
    "name": "ipython",
    "version": 3
   },
   "file_extension": ".py",
   "mimetype": "text/x-python",
   "name": "python",
   "nbconvert_exporter": "python",
   "pygments_lexer": "ipython3",
   "version": "3.8.8"
  }
 },
 "nbformat": 4,
 "nbformat_minor": 5
}
