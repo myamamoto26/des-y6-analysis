{
 "cells": [
  {
   "cell_type": "code",
   "execution_count": 1,
   "id": "0ed7af49-55e2-4ae2-970d-bd40e94d8c94",
   "metadata": {},
   "outputs": [],
   "source": [
    "import fitsio as fio\n",
    "import numpy as np\n",
    "import os, sys\n",
    "import glob\n",
    "from matplotlib import pyplot as plt\n",
    "import proplot as pplt\n",
    "from tqdm import tqdm\n",
    "import pickle\n",
    "from des_y6utils import mdet\n",
    "%matplotlib inline\n",
    "\n",
    "os.environ[\"MEDS_DIR\"] = \"/global/cfs/cdirs/des/y6-shear-catalogs\""
   ]
  },
  {
   "cell_type": "code",
   "execution_count": 14,
   "id": "fbcf53e7-f673-4062-97fd-6f9603c34c89",
   "metadata": {},
   "outputs": [],
   "source": [
    "# grab mdet files (these files are divided into patches)\n",
    "mdet_files = glob.glob('/global/cfs/cdirs/des/y6-shear-catalogs/metadetection_patches_v1_blinded/patch-*.fits')"
   ]
  },
  {
   "cell_type": "code",
   "execution_count": null,
   "id": "2b6b9459-0d5d-47ab-9554-f99b491ca904",
   "metadata": {},
   "outputs": [],
   "source": [
    "# preliminary shear weight\n",
    "with open('/global/cscratch1/sd/myamamot/des-y6-analysis/y6_measurement/inverse_variance_weight_final_v2.pickle', 'rb') as handle:\n",
    "    wgt_dict = pickle.load(handle)"
   ]
  },
  {
   "cell_type": "code",
   "execution_count": null,
   "id": "d8debff0-d5e0-4724-b3fd-bb64715b6f8a",
   "metadata": {},
   "outputs": [],
   "source": [
    "def assign_loggrid(x, y, xmin, xmax, xsteps, ymin, ymax, ysteps):\n",
    "    from math import log10\n",
    "    # return x and y indices of data (x,y) on a log-spaced grid that runs from [xy]min to [xy]max in [xy]steps\n",
    "\n",
    "    logstepx = log10(xmax/xmin)/xsteps\n",
    "    logstepy = log10(ymax/ymin)/ysteps\n",
    "\n",
    "    indexx = (np.log10(x/xmin)/logstepx).astype(int)\n",
    "    indexy = (np.log10(y/ymin)/logstepy).astype(int)\n",
    "\n",
    "    indexx = np.maximum(indexx,0)\n",
    "    indexx = np.minimum(indexx, xsteps-1)\n",
    "    indexy = np.maximum(indexy,0)\n",
    "    indexy = np.minimum(indexy, ysteps-1)\n",
    "\n",
    "    return indexx,indexy\n",
    "\n",
    "def _find_shear_weight(d, wgt_dict, snmin, snmax, sizemin, sizemax, steps):\n",
    "    \n",
    "    if wgt_dict is None:\n",
    "        weights = np.ones(len(d))\n",
    "        return weights\n",
    "\n",
    "    shear_wgt = wgt_dict['weight']\n",
    "    shear_response = wgt_dict['response']\n",
    "    indexx, indexy = assign_loggrid(d['wmom_s2n'], d['wmom_T_ratio'], snmin, snmax, steps, sizemin, sizemax, steps)\n",
    "    weights = np.array([shear_wgt[x, y] for x, y in zip(indexx, indexy)])\n",
    "    response = np.array([shear_response[x, y] for x, y in zip(indexx, indexy)])\n",
    "    \n",
    "    return response, weights"
   ]
  },
  {
   "cell_type": "code",
   "execution_count": 3,
   "id": "51d305e4-4ae2-4e92-b8d6-588abfdaa76f",
   "metadata": {},
   "outputs": [
    {
     "name": "stderr",
     "output_type": "stream",
     "text": [
      "100%|██████████| 200/200 [2:00:13<00:00, 36.07s/it] "
     ]
    },
    {
     "name": "stdout",
     "output_type": "stream",
     "text": [
      "0.28138596259721277 0.2819912910434253 0.28168862682031903\n"
     ]
    },
    {
     "name": "stderr",
     "output_type": "stream",
     "text": [
      "\n"
     ]
    }
   ],
   "source": [
    "def _accum_shear_per_tile(res, mdet_step, g1, g2):\n",
    "\n",
    "    \"\"\"\n",
    "    Returns the dictionary of the accumulated shear (sum of individual shear).\n",
    "\n",
    "    Parameters\n",
    "    ----------\n",
    "    res: A dictionary in which accumulated sums of shear are stored\n",
    "    mdet_step: An array of metadetection steps (noshear, 1p, 1m, 2p, 2m) for each object in metadetection catalog\n",
    "    g1: An array of the measured shapes (e1) for each object in metadetection catalog\n",
    "    g2: An array of the measured shapes (e2) for each object in metadetection catalog\n",
    "\n",
    "    \"\"\"\n",
    "    for step in ['noshear', '1p', '1m', '2p', '2m']:\n",
    "        msk_s = np.where(mdet_step == step)[0]\n",
    "        \n",
    "        np.add.at(\n",
    "            res[step], \n",
    "            (0, 0), \n",
    "            np.sum(g1[msk_s]),\n",
    "        )\n",
    "        np.add.at(\n",
    "            res[step], \n",
    "            (0, 1), \n",
    "            np.sum(g2[msk_s]),\n",
    "        )\n",
    "        np.add.at(\n",
    "            res[\"num_\" + step], \n",
    "            (0, 0), \n",
    "            len(g1[msk_s]),\n",
    "        )\n",
    "        np.add.at(\n",
    "            res[\"num_\" + step], \n",
    "            (0, 1), \n",
    "            len(g2[msk_s]),\n",
    "        )\n",
    "    return res\n",
    "\n",
    "binnum = 1\n",
    "res = {'noshear': np.zeros((binnum, 2)), 'num_noshear': np.zeros((binnum, 2)), \n",
    "       '1p': np.zeros((binnum, 2)), 'num_1p': np.zeros((binnum, 2)), \n",
    "       '1m': np.zeros((binnum, 2)), 'num_1m': np.zeros((binnum, 2)),\n",
    "       '2p': np.zeros((binnum, 2)), 'num_2p': np.zeros((binnum, 2)),\n",
    "       '2m': np.zeros((binnum, 2)), 'num_2m': np.zeros((binnum, 2))}\n",
    "\n",
    "for fname in tqdm(mdet_files):\n",
    "    \n",
    "    try:\n",
    "        d = fio.read(fname)\n",
    "    except:\n",
    "        print('this file cannot be read', fname)\n",
    "        continue\n",
    "    \n",
    "    msk = mdet.make_mdet_cuts(d, 2) \n",
    "    d = d[msk]\n",
    "    \n",
    "    res = _accum_shear_per_tile(res, d['mdet_step'], d['wmom_g_1'], d['wmom_g_2'])\n",
    "\n",
    "g1 = res['noshear'][0][0] / res['num_noshear'][0][0]\n",
    "g1p = res['1p'][0][0] / res['num_1p'][0][0]\n",
    "g1m = res['1m'][0][0] / res['num_1m'][0][0]\n",
    "R11 = (g1p - g1m) / 2 / 0.01\n",
    "\n",
    "g2 = res['noshear'][0][1] / res['num_noshear'][0][1]\n",
    "g2p = res['2p'][0][1] / res['num_2p'][0][1]\n",
    "g2m = res['2m'][0][1] / res['num_2m'][0][1]\n",
    "R22 = (g2p - g2m) / 2 / 0.01\n",
    "\n",
    "R = (R11+R22)/2\n",
    "print(R11, R22, R)"
   ]
  },
  {
   "cell_type": "code",
   "execution_count": 10,
   "id": "9a6bce38-b554-4222-aefa-ac72c7286771",
   "metadata": {},
   "outputs": [
    {
     "data": {
      "text/plain": [
       "18"
      ]
     },
     "execution_count": 10,
     "metadata": {},
     "output_type": "execute_result"
    }
   ],
   "source": [
    "R11 = 0.28138596259721277; R22 = 0.2819912910434253\n",
    "f_response = open('/global/cscratch1/sd/myamamot/des-y6-analysis/y6_measurement/shear_response_v2.txt', 'w')\n",
    "f_response.write(str(R11))\n",
    "f_response.write('\\n')\n",
    "f_response.write(str(R22))\n",
    "f_response.close()"
   ]
  },
  {
   "cell_type": "code",
   "execution_count": 15,
   "id": "db11bfec-9a41-4e22-9231-ec9b9a7da4d0",
   "metadata": {},
   "outputs": [],
   "source": [
    "R = 0.28168862682031903"
   ]
  },
  {
   "cell_type": "code",
   "execution_count": 16,
   "id": "2e937a1b-eb2b-44d9-a0ca-1c286ab247d2",
   "metadata": {},
   "outputs": [
    {
     "name": "stderr",
     "output_type": "stream",
     "text": [
      "100%|██████████| 200/200 [1:00:01<00:00, 18.01s/it]\n"
     ]
    }
   ],
   "source": [
    "# Put all the objects in an array.\n",
    "obj_list = []\n",
    "for fname in tqdm(mdet_files):\n",
    "    \n",
    "    try:\n",
    "        d = fio.read(fname)\n",
    "        msk = mdet.make_mdet_cuts(d, 2) # cuts version 2. \n",
    "        noshear_mask = (d['mdet_step'] == 'noshear')\n",
    "        d = d[msk & noshear_mask]\n",
    "    except:\n",
    "        continue\n",
    "    \n",
    "    mdet_obj = np.zeros(len(d), dtype=[('ra', 'f8'), ('dec', 'f8'), ('s2n', 'f8'), ('g1', 'f8'), ('g2', 'f8'), ('g1_cov', 'f8'), ('g2_cov', 'f8'), ('R_all', 'f8'), ('w', 'f8')])\n",
    "    # mdet_obj = np.zeros(len(d), dtype=[('ra', 'f8'), ('dec', 'f8'), ('s2n', 'f8')])\n",
    "    # shear_response, shear_wgt = _find_shear_weight(d, wgt_dict, 10, 500, 1.2, 2.0, 20)\n",
    "    # weighting\n",
    "    shear_wgt = 1/(0.07**2 + 0.5*(d['wmom_g_cov_1_1'] + d['wmom_g_cov_2_2']))\n",
    "    \n",
    "    mdet_obj['ra'] = d['ra']\n",
    "    mdet_obj['dec'] = d['dec']\n",
    "    mdet_obj['s2n'] = d['wmom_s2n']\n",
    "    mdet_obj['g1'] = d['wmom_g_1']\n",
    "    mdet_obj['g2'] = d['wmom_g_2']\n",
    "    mdet_obj['g1_cov'] = d['wmom_g_cov_1_1']\n",
    "    mdet_obj['g2_cov'] = d['wmom_g_cov_2_2']\n",
    "    mdet_obj['R_all'] = R\n",
    "    # mdet_obj['R_w'] = shear_response\n",
    "    mdet_obj['w'] = shear_wgt\n",
    "    \n",
    "    obj_list.append(mdet_obj)\n",
    "\n",
    "mdet_all = np.concatenate(obj_list)"
   ]
  },
  {
   "cell_type": "code",
   "execution_count": 17,
   "id": "48bd0102-f951-48e4-b0a3-a8acbb4aca34",
   "metadata": {},
   "outputs": [],
   "source": [
    "fio.write('/global/cscratch1/sd/myamamot/des-y6-analysis/y6_measurement/metadetection_v2_snweight.fits', mdet_all)"
   ]
  },
  {
   "cell_type": "markdown",
   "id": "1bde8988-3012-4bdc-b610-4a3040b588d7",
   "metadata": {},
   "source": [
    "# Analysis Choices"
   ]
  },
  {
   "cell_type": "code",
   "execution_count": null,
   "id": "84901da5-1b75-431b-8e3f-01ae2434bfc4",
   "metadata": {},
   "outputs": [],
   "source": [
    "d = fio.read('/global/cscratch1/sd/myamamot/des-y6-analysis/y6_measurement/mean_shear_stats_final_v1.fits')"
   ]
  },
  {
   "cell_type": "code",
   "execution_count": null,
   "id": "a557e880-015d-42b5-82ff-bd086d846fbe",
   "metadata": {},
   "outputs": [],
   "source": [
    "fig,ax=plt.subplots(nrows=1, ncols=2, figsize=(7,3))\n",
    "ax[0].hist(np.log10(d['wmom_s2n']), bins=500, histtype='step')\n",
    "ax[1].hist(d['wmom_T_ratio'], bins=500, histtype='step')\n",
    "plt.show()"
   ]
  },
  {
   "cell_type": "code",
   "execution_count": null,
   "id": "cf766602-e92e-46bd-b6de-4d1664a5c081",
   "metadata": {},
   "outputs": [],
   "source": [
    "print('S/N cut 300', np.mean((d['wmom_s2n'] < 300)))\n",
    "print('S/N cut 500', np.mean((d['wmom_s2n'] < 500)))"
   ]
  },
  {
   "cell_type": "code",
   "execution_count": null,
   "id": "e40df4c0-1dab-428a-aa7a-f293dfef4198",
   "metadata": {},
   "outputs": [],
   "source": [
    "print('T_ratio cut 2.0', np.mean((d['wmom_T_ratio'] < 2.0)))"
   ]
  },
  {
   "cell_type": "code",
   "execution_count": 2,
   "id": "2954b993-4a2b-4c04-b05b-cd9641f50c3a",
   "metadata": {},
   "outputs": [],
   "source": [
    "d_v2_snweight = fio.read('/global/cscratch1/sd/myamamot/des-y6-analysis/y6_measurement/metadetection_v2_snweight.fits')"
   ]
  },
  {
   "cell_type": "code",
   "execution_count": 7,
   "id": "19132288-797a-4ebb-a247-78d9c9ad6018",
   "metadata": {},
   "outputs": [
    {
     "data": {
      "image/png": "[encoded data removed]",
      "text/plain": [
       "<Figure size 400x300 with 1 Axes>"
      ]
     },
     "metadata": {
      "image/png": {
       "height": 300,
       "width": 400
      }
     },
     "output_type": "display_data"
    }
   ],
   "source": [
    "fig,ax=plt.subplots(figsize=(4,3))\n",
    "h = ax.hist(d_v2_snweight['w'], histtype='step', bins=500)\n",
    "wgt2 = 1/(0.07**2 + )\n",
    "h = ax.hist(wgt2, histtype='step', bins=500)\n",
    "ax.set_xlabel('per-galaxy weight')\n",
    "plt.tight_layout()"
   ]
  },
  {
   "cell_type": "code",
   "execution_count": 6,
   "id": "00604de3-9a65-41c1-9d4d-2baf88537dfb",
   "metadata": {},
   "outputs": [
    {
     "data": {
      "image/png": "[encoded data removed]",
      "text/plain": [
       "<Figure size 400x300 with 1 Axes>"
      ]
     },
     "metadata": {
      "image/png": {
       "height": 300,
       "width": 400
      }
     },
     "output_type": "display_data"
    }
   ],
   "source": [
    "fig,ax=plt.subplots(figsize=(4,3))\n",
    "wgt = 1/(0.25**2 + 0.5*(d_v2_snweight['g1_cov'] + d_v2_snweight['g2_cov']))\n",
    "h = ax.hist(wgt, histtype='step', bins=500)\n",
    "ax.set_xlabel('per-galaxy weight')\n",
    "plt.tight_layout()"
   ]
  },
  {
   "cell_type": "code",
   "execution_count": null,
   "id": "a41487f4-7a98-4d8e-b544-7bfcb4a05593",
   "metadata": {},
   "outputs": [],
   "source": []
  }
 ],
 "metadata": {
  "kernelspec": {
   "display_name": "eastlake-dev",
   "language": "python",
   "name": "eastlake-dev"
  },
  "language_info": {
   "codemirror_mode": {
    "name": "ipython",
    "version": 3
   },
   "file_extension": ".py",
   "mimetype": "text/x-python",
   "name": "python",
   "nbconvert_exporter": "python",
   "pygments_lexer": "ipython3",
   "version": "3.8.8"
  }
 },
 "nbformat": 4,
 "nbformat_minor": 5
}
