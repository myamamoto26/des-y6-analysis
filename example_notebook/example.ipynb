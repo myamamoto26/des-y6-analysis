import fitsio as fio
import numpy as np
import os
import glob

# grab metadetection patch files Erin makes where the certain cuts (with ID number) are already applied. 
mdet_files = glob.glob("cuts_1/path_to_mdet_files")
# compute the response for each patch
# compute the response for all the catalogs
