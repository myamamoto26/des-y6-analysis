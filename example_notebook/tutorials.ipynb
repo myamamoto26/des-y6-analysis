{
 "cells": [
  {
   "cell_type": "markdown",
   "id": "4ef9ce1b-7e7f-48ff-8193-0f3e36173a20",
   "metadata": {},
   "source": [
    "# How to visualize pizza-cutter meds files\n",
    "-> check eastlake_analysis.ipynb"
   ]
  },
  {
   "cell_type": "markdown",
   "id": "36d301c9-3ca7-4f89-ac65-e4295cb101c0",
   "metadata": {},
   "source": [
    "# How to visualize the metadetection object from the slice_id\n",
    "-> check metadetect_viz.ipynb and /global/cscratch1/sd/myamamot/des-y6-analysis/metadetect_viz.py"
   ]
  },
  {
   "cell_type": "markdown",
   "id": "efa34edf-eade-4d7d-ba2b-c3e40673b9f5",
   "metadata": {
    "jp-MarkdownHeadingCollapsed": true,
    "tags": []
   },
   "source": [
    "# How to apply ngmix on a galsim image"
   ]
  },
  {
   "cell_type": "markdown",
   "id": "75035931-9705-415e-a3a8-62750a5e2419",
   "metadata": {
    "jp-MarkdownHeadingCollapsed": true,
    "tags": []
   },
   "source": [
    "## Make galsim object (image)"
   ]
  },
  {
   "cell_type": "code",
   "execution_count": null,
   "id": "db98a130-5b9c-4053-a5b4-39e7db1ea706",
   "metadata": {},
   "outputs": [],
   "source": [
    "import galsim\n",
    "# b = galsim.BoundsI(1,51,1,51)\n",
    "# gal_stamp = galsim.Image(b)\n",
    "gal = galsim.Exponential(flux=10**(0.4*(30.0-18.0)), half_light_radius=0.5)\n",
    "psf = galsim.Gaussian(flux=1.0, sigma=1.0)\n",
    "\n",
    "gal_image = gal.drawImage(scale=0.26)\n",
    "psf_image = psf.drawImage(scale=0.26)\n",
    "print(gal_image.array.shape)\n",
    "print(psf_image.array.shape)"
   ]
  },
  {
   "cell_type": "code",
   "execution_count": null,
   "id": "9e974246-a24c-40e4-88b3-7c1dc5728194",
   "metadata": {},
   "outputs": [],
   "source": [
    "from matplotlib.colors import LogNorm\n",
    "\n",
    "ax[0].imshow(gal_image.array, norm=LogNorm())\n",
    "ax[1].imshow(psf_image.array, norm=LogNorm())"
   ]
  },
  {
   "cell_type": "code",
   "execution_count": null,
   "id": "baaa80d0-b75a-46ad-ba41-fe78b6f08539",
   "metadata": {},
   "outputs": [],
   "source": [
    "new_gal = galsim.Convolve([gal, psf])\n",
    "new_gal_image = new_gal.drawImage(scale=0.26)\n",
    "new_gal_image.array.shape"
   ]
  },
  {
   "cell_type": "markdown",
   "id": "56e74441-a723-4eca-a214-0090d667623d",
   "metadata": {
    "jp-MarkdownHeadingCollapsed": true,
    "tags": []
   },
   "source": [
    "## shape measurement with ngmix\n",
    "\n",
    "### Tips\n",
    "1. use tab-completion to see what kind of functions are there.\n",
    "2. use ? to see the docstring (e.g., ngmix.Observation?)"
   ]
  },
  {
   "cell_type": "code",
   "execution_count": 1,
   "id": "eee685d0-e372-401c-adf1-1cd1b66e1c85",
   "metadata": {},
   "outputs": [],
   "source": [
    "import ngmix"
   ]
  },
  {
   "cell_type": "code",
   "execution_count": 3,
   "id": "c2ddab3e-0c3e-4fc5-8f1a-89697b3d2fa2",
   "metadata": {},
   "outputs": [
    {
     "data": {
      "text/plain": [
       "\u001b[0;31mInit signature:\u001b[0m\n",
       "\u001b[0mngmix\u001b[0m\u001b[0;34m.\u001b[0m\u001b[0mObservation\u001b[0m\u001b[0;34m(\u001b[0m\u001b[0;34m\u001b[0m\n",
       "\u001b[0;34m\u001b[0m    \u001b[0mimage\u001b[0m\u001b[0;34m,\u001b[0m\u001b[0;34m\u001b[0m\n",
       "\u001b[0;34m\u001b[0m    \u001b[0mweight\u001b[0m\u001b[0;34m=\u001b[0m\u001b[0;32mNone\u001b[0m\u001b[0;34m,\u001b[0m\u001b[0;34m\u001b[0m\n",
       "\u001b[0;34m\u001b[0m    \u001b[0mbmask\u001b[0m\u001b[0;34m=\u001b[0m\u001b[0;32mNone\u001b[0m\u001b[0;34m,\u001b[0m\u001b[0;34m\u001b[0m\n",
       "\u001b[0;34m\u001b[0m    \u001b[0mormask\u001b[0m\u001b[0;34m=\u001b[0m\u001b[0;32mNone\u001b[0m\u001b[0;34m,\u001b[0m\u001b[0;34m\u001b[0m\n",
       "\u001b[0;34m\u001b[0m    \u001b[0mnoise\u001b[0m\u001b[0;34m=\u001b[0m\u001b[0;32mNone\u001b[0m\u001b[0;34m,\u001b[0m\u001b[0;34m\u001b[0m\n",
       "\u001b[0;34m\u001b[0m    \u001b[0mjacobian\u001b[0m\u001b[0;34m=\u001b[0m\u001b[0;32mNone\u001b[0m\u001b[0;34m,\u001b[0m\u001b[0;34m\u001b[0m\n",
       "\u001b[0;34m\u001b[0m    \u001b[0mgmix\u001b[0m\u001b[0;34m=\u001b[0m\u001b[0;32mNone\u001b[0m\u001b[0;34m,\u001b[0m\u001b[0;34m\u001b[0m\n",
       "\u001b[0;34m\u001b[0m    \u001b[0mpsf\u001b[0m\u001b[0;34m=\u001b[0m\u001b[0;32mNone\u001b[0m\u001b[0;34m,\u001b[0m\u001b[0;34m\u001b[0m\n",
       "\u001b[0;34m\u001b[0m    \u001b[0mmeta\u001b[0m\u001b[0;34m=\u001b[0m\u001b[0;32mNone\u001b[0m\u001b[0;34m,\u001b[0m\u001b[0;34m\u001b[0m\n",
       "\u001b[0;34m\u001b[0m    \u001b[0mmfrac\u001b[0m\u001b[0;34m=\u001b[0m\u001b[0;32mNone\u001b[0m\u001b[0;34m,\u001b[0m\u001b[0;34m\u001b[0m\n",
       "\u001b[0;34m\u001b[0m    \u001b[0mstore_pixels\u001b[0m\u001b[0;34m=\u001b[0m\u001b[0;32mTrue\u001b[0m\u001b[0;34m,\u001b[0m\u001b[0;34m\u001b[0m\n",
       "\u001b[0;34m\u001b[0m    \u001b[0mignore_zero_weight\u001b[0m\u001b[0;34m=\u001b[0m\u001b[0;32mTrue\u001b[0m\u001b[0;34m,\u001b[0m\u001b[0;34m\u001b[0m\n",
       "\u001b[0;34m\u001b[0m\u001b[0;34m)\u001b[0m\u001b[0;34m\u001b[0m\u001b[0;34m\u001b[0m\u001b[0m\n",
       "\u001b[0;31mDocstring:\u001b[0m     \n",
       "Represent an observation with an image and possibly a\n",
       "weight map and jacobian\n",
       "\n",
       "parameters\n",
       "----------\n",
       "image: ndarray\n",
       "    The image\n",
       "weight: ndarray, optional\n",
       "    Weight map, same shape as image\n",
       "bmask: ndarray, optional\n",
       "    A bitmask array\n",
       "ormask: ndarray, optional\n",
       "    A bitmask array\n",
       "noise: ndarray, optional\n",
       "    A noise field to associate with this observation\n",
       "jacobian: Jacobian, optional\n",
       "    Type Jacobian or a sub-type\n",
       "gmix: GMix, optional\n",
       "    Optional GMix object associated with this observation\n",
       "psf: Observation, optional\n",
       "    Optional psf Observation\n",
       "meta: dict\n",
       "    Optional dictionary\n",
       "mfrac: ndarray, optional\n",
       "    A masked fraction image for this observation.\n",
       "ignore_zero_weight: bool\n",
       "    If True, do not store zero weight pixels in the pixels\n",
       "    array.  Default is True.\n",
       "store_pixels: bool\n",
       "    If True, store an array of pixels for use in fitting routines.\n",
       "    If False, the ignore_zero_weight keyword is not used.\n",
       "ignore_zero_weight: bool\n",
       "    Only relevant if store_pixels is True.\n",
       "    If ignore_zero_weight is True, then zero-weight pixels are ignored\n",
       "    when constructing the internal pixels array for fitting routines.\n",
       "    If False, then zero-weight pixels are included in the internal pixels\n",
       "    array.\n",
       "\n",
       "notes\n",
       "-----\n",
       "Updates of the internal data of ngmix.Observation will only work in\n",
       "a python context, e.g:\n",
       "\n",
       "    with obs.writeable():\n",
       "        obs.image[w] += 5\n",
       "\u001b[0;31mFile:\u001b[0m           ~/miniforge3/envs/eastlake-dev/lib/python3.8/site-packages/ngmix/observation.py\n",
       "\u001b[0;31mType:\u001b[0m           type\n",
       "\u001b[0;31mSubclasses:\u001b[0m     \n"
      ]
     },
     "metadata": {},
     "output_type": "display_data"
    }
   ],
   "source": [
    "ngmix.Observation?"
   ]
  },
  {
   "cell_type": "code",
   "execution_count": null,
   "id": "a3bbb910-9a92-4571-9a92-c1a7566d6eec",
   "metadata": {},
   "outputs": [],
   "source": [
    "jac = ngmix.DiagonalJacobian(0.26, row=25.5, col=25.5)\n",
    "psf_jac = ngmix.DiagonalJacobian(0.26, row=23.5, col=23.5)\n",
    "wgt = np.ones_like(new_gal_image.array)\n",
    "psf_wgt = np.ones_like(psf_image.array)\n",
    "obs_psf =  ngmix.Observation(psf_image.array, weight=psf_wgt, jacobian=psf_jac)"
   ]
  },
  {
   "cell_type": "code",
   "execution_count": null,
   "id": "8f7afac2-02ac-493d-90c7-9a65856e2ff7",
   "metadata": {},
   "outputs": [],
   "source": [
    "# make observation object\n",
    "obs = ngmix.Observation(new_gal_image.array, weight=wgt, psf=obs_psf, jacobian=jac)"
   ]
  },
  {
   "cell_type": "code",
   "execution_count": null,
   "id": "5b2e87d1-7c04-48d1-a36f-481d63358582",
   "metadata": {},
   "outputs": [],
   "source": [
    "\n",
    "fitter = ngmix.prepsfmom.PGaussMom(2.0)"
   ]
  },
  {
   "cell_type": "code",
   "execution_count": null,
   "id": "51846ed8-3fc5-4971-be82-9b003ea358c5",
   "metadata": {},
   "outputs": [],
   "source": [
    "res = fitter.go(obs)"
   ]
  },
  {
   "cell_type": "code",
   "execution_count": null,
   "id": "ba7f9a97-7cb7-4fbc-9fe5-ad041b47c54b",
   "metadata": {},
   "outputs": [],
   "source": [
    "res"
   ]
  }
 ],
 "metadata": {
  "kernelspec": {
   "display_name": "eastlake-dev",
   "language": "python",
   "name": "eastlake-dev"
  },
  "language_info": {
   "codemirror_mode": {
    "name": "ipython",
    "version": 3
   },
   "file_extension": ".py",
   "mimetype": "text/x-python",
   "name": "python",
   "nbconvert_exporter": "python",
   "pygments_lexer": "ipython3",
   "version": "3.8.8"
  }
 },
 "nbformat": 4,
 "nbformat_minor": 5
}
