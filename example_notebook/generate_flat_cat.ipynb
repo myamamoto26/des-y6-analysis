{
 "cells": [
  {
   "cell_type": "code",
   "execution_count": 27,
   "id": "0ed7af49-55e2-4ae2-970d-bd40e94d8c94",
   "metadata": {},
   "outputs": [],
   "source": [
    "import fitsio as fio\n",
    "import numpy as np\n",
    "import os, sys\n",
    "import glob\n",
    "from matplotlib import pyplot as plt\n",
    "import proplot as pplt\n",
    "from tqdm import tqdm\n",
    "import pickle\n",
    "from des_y6utils import mdet\n",
    "%matplotlib inline\n",
    "\n",
    "os.environ[\"MEDS_DIR\"] = \"/global/cfs/cdirs/des/y6-shear-catalogs\""
   ]
  },
  {
   "cell_type": "code",
   "execution_count": 7,
   "id": "fbcf53e7-f673-4062-97fd-6f9603c34c89",
   "metadata": {},
   "outputs": [],
   "source": [
    "# grab mdet files (these files are divided into patches)\n",
    "mdet_files = glob.glob('/global/cfs/cdirs/des/y6-shear-catalogs/Y6A2_METADETECT_V5a/jackknife_patches_blinded/patch-*.fits')\n",
    "# mdet_files = glob.glob('/global/cfs/cdirs/des/y6-shear-catalogs/Y6A2_METADETECT_V3/*_metadetect.fits')\n",
    "# mdet_files = np.load('/global/cscratch1/sd/myamamot/des-y6-analysis/y6_measurement/som_weight_test/som_training_files.npy')"
   ]
  },
  {
   "cell_type": "code",
   "execution_count": 3,
   "id": "2b6b9459-0d5d-47ab-9554-f99b491ca904",
   "metadata": {},
   "outputs": [],
   "source": [
    "# preliminary shear weight\n",
    "with open('/pscratch/sd/m/myamamot/des-y6-analysis/y6_measurement/v3/inverse_variance_weight_v3_s2n_10-300_Tratio_0.5-5.pickle', 'rb') as handle:\n",
    "    wgt_dict = pickle.load(handle)"
   ]
  },
  {
   "cell_type": "code",
   "execution_count": 4,
   "id": "d8debff0-d5e0-4724-b3fd-bb64715b6f8a",
   "metadata": {},
   "outputs": [],
   "source": [
    "def assign_loggrid(x, y, xmin, xmax, xsteps, ymin, ymax, ysteps):\n",
    "    from math import log10\n",
    "    # return x and y indices of data (x,y) on a log-spaced grid that runs from [xy]min to [xy]max in [xy]steps\n",
    "\n",
    "    logstepx = log10(xmax/xmin)/xsteps\n",
    "    logstepy = log10(ymax/ymin)/ysteps\n",
    "\n",
    "    indexx = (np.log10(x/xmin)/logstepx).astype(int)\n",
    "    indexy = (np.log10(y/ymin)/logstepy).astype(int)\n",
    "\n",
    "    indexx = np.maximum(indexx,0)\n",
    "    indexx = np.minimum(indexx, xsteps-1)\n",
    "    indexy = np.maximum(indexy,0)\n",
    "    indexy = np.minimum(indexy, ysteps-1)\n",
    "\n",
    "    return indexx,indexy\n",
    "\n",
    "def _find_shear_weight(d, wgt_dict, snmin, snmax, sizemin, sizemax, steps, mdet_mom):\n",
    "    \n",
    "    if wgt_dict is None:\n",
    "        weights = np.ones(len(d))\n",
    "        return weights\n",
    "\n",
    "    shear_wgt = wgt_dict['weight']\n",
    "    shear_response = wgt_dict['response']\n",
    "    indexx, indexy = assign_loggrid(d[mdet_mom+'_s2n'], d[mdet_mom+'_T_ratio'], snmin, snmax, steps, sizemin, sizemax, steps)\n",
    "    weights = np.array([shear_wgt[x, y] for x, y in zip(indexx, indexy)])\n",
    "    response = np.array([shear_response[x, y] for x, y in zip(indexx, indexy)])\n",
    "    \n",
    "    return response, weights"
   ]
  },
  {
   "cell_type": "code",
   "execution_count": 8,
   "id": "9a6bce38-b554-4222-aefa-ac72c7286771",
   "metadata": {},
   "outputs": [],
   "source": [
    "f_response = open('/pscratch/sd/m/myamamot/des-y6-analysis/y6_measurement/v3/weighted_shear_response_v3_s2n_10-300_Tratio_0.5-5.txt', 'r')\n",
    "R11, R22 = f_response.read().split('\\n')\n",
    "R = (float(R11) + float(R22))/2\n",
    "\n",
    "f_response_shape_err = open('/pscratch/sd/m/myamamot/des-y6-analysis/y6_measurement/v5/weighted_shear_response_v5_shape_err.txt', 'r')\n",
    "R11_se, R22_se = f_response_shape_err.read().split('\\n')\n",
    "R_shape_err = (float(R11_se) + float(R22_se))/2"
   ]
  },
  {
   "cell_type": "code",
   "execution_count": 9,
   "id": "45b5a76a-6100-46c8-b6d4-5e3ffcdab12b",
   "metadata": {},
   "outputs": [
    {
     "name": "stdout",
     "output_type": "stream",
     "text": [
      "0.8435480631935742 0.8465420261413853 0.8450450446674798\n",
      "0.7613651310846075 0.7646407933123135 0.7630029621984604\n"
     ]
    }
   ],
   "source": [
    "print(R11, R22, R)\n",
    "print(R11_se, R22_se, R_shape_err)"
   ]
  },
  {
   "cell_type": "code",
   "execution_count": 10,
   "id": "2e937a1b-eb2b-44d9-a0ca-1c286ab247d2",
   "metadata": {},
   "outputs": [
    {
     "name": "stderr",
     "output_type": "stream",
     "text": [
      "200it [44:20, 13.30s/it]\n"
     ]
    }
   ],
   "source": [
    "# Put all the objects in an array.\n",
    "obj_list = []\n",
    "def flux2mag(flux, zero_pt=30):\n",
    "    return zero_pt - 2.5 * np.log10(flux)\n",
    "for i,fname in tqdm(enumerate(mdet_files)):\n",
    "    \n",
    "    # try:\n",
    "    d = fio.read(fname)\n",
    "    msk = mdet.make_mdet_cuts(d, 5) \n",
    "    mdet_mom = 'gauss'\n",
    "    # msk = mdet._make_mdet_cuts_wmom(\n",
    "    #         d,\n",
    "    #         min_s2n=5.0,\n",
    "    #         min_t_ratio=1.1,\n",
    "    #         n_terr=0.0,\n",
    "    #         max_mfrac=0.1,\n",
    "    #         max_s2n=np.inf,\n",
    "    #     )\n",
    "    noshear_mask = (d['mdet_step'] == 'noshear')\n",
    "    d = d[msk & noshear_mask]\n",
    "    # except:\n",
    "    #     print('error cutting')\n",
    "    #     continue\n",
    "    \n",
    "    # mdet_obj = np.zeros(len(d), dtype=[('tilename', object), ('slice_id', 'i2'), ('x', 'f8'), ('y', 'f8'), ('ra', 'f8'), ('dec', 'f8')]) \n",
    "    mdet_obj = np.zeros(len(d), dtype=[('ra', 'f8'), ('dec', 'f8'), ('s2n', 'f8'), ('gauss_T_ratio', 'f8'), ('g1', 'f8'), ('g2', 'f8'), ('psfrec_e1', 'f8'), ('gauss_T', 'f8'), ('psfrec_e2', 'f8'), ('g1_cov', 'f8'), ('g2_cov', 'f8'), ('R_all', 'f8'), ('w', 'f8'), ('mag_g', 'f8'), ('mag_r', 'f8'), ('mag_i', 'f8')])\n",
    "    # mdet_obj = np.zeros(len(d), dtype=[('ra', 'f8'), ('dec', 'f8'), ('s2n', 'f8'), ('gauss_T_ratio', 'f8'),  ('pgauss_T', 'f8'), ('gauss_T', 'f8'), ('pgauss_T_err', 'f8'), ('gauss_T_err', 'f8'), ('mag_g', 'f8'), ('mag_r', 'f8'), ('mag_i', 'f8'), ('w', 'f8') ])\n",
    "    # mdet_obj = np.zeros(len(d), dtype=[('ra', 'f8'), ('dec', 'f8'), ('s2n', 'f8'), ('g1', 'f8'), ('g2', 'f8'), ('x', 'f8'), ('y', 'f8'), ('g_flux', 'f8'), ('i_flux', 'f8'), ('z_flux', 'f8')])\n",
    "    # shear_response, shear_wgt = _find_shear_weight(d, wgt_dict, 10, 1000, 0.5, 5.0, 20, mdet_mom)\n",
    "    noise_shear_wgt = 1/(0.17**2 + 0.5*(d[mdet_mom+'_g_cov_1_1'] + d[mdet_mom+'_g_cov_2_2']))\n",
    "\n",
    "    # mdet_obj['tilename'] = d['tilename']\n",
    "    # mdet_obj['slice_id'] = d['slice_id']\n",
    "    # mdet_obj['x'] = d['x']\n",
    "    # mdet_obj['y'] = d['y']\n",
    "    mdet_obj['ra'] = d['ra']\n",
    "    mdet_obj['dec'] = d['dec']\n",
    "    mdet_obj['s2n'] = d[mdet_mom+'_s2n']\n",
    "    # mdet_obj['gmi'] = flux2mag(d['pgauss_band_flux_g']) - flux2mag(d['pgauss_band_flux_i'])\n",
    "    # mdet_obj['imz'] = flux2mag(d['pgauss_band_flux_i']) - flux2mag(d['pgauss_band_flux_z'])\n",
    "    mdet_obj['mag_g'] = flux2mag(d['pgauss_band_flux_g']) \n",
    "    mdet_obj['mag_r'] = flux2mag(d['pgauss_band_flux_r']) \n",
    "    mdet_obj['mag_i'] = flux2mag(d['pgauss_band_flux_i']) \n",
    "    # mdet_obj['z_flux'] = d['pgauss_band_flux_z']\n",
    "    mdet_obj['g1'] = d[mdet_mom+'_g_1']\n",
    "    mdet_obj['g2'] = d[mdet_mom+'_g_2']\n",
    "    mdet_obj['g1_cov'] = d[mdet_mom+'_g_cov_1_1']\n",
    "    mdet_obj['g2_cov'] = d[mdet_mom+'_g_cov_2_2']\n",
    "    mdet_obj['R_all'] = R_shape_err\n",
    "    # mdet_obj['R_noise'] = R_shape_err\n",
    "    mdet_obj['w'] = noise_shear_wgt\n",
    "    # mdet_obj['w_noise'] = noise_shear_wgt\n",
    "    # mdet_obj['psf_e1'] = d[mdet_mom+'_psf_g_1']\n",
    "    # mdet_obj['psf_e2'] = d[mdet_mom+'_psf_g_2']\n",
    "    mdet_obj['psfrec_e1'] = d['psfrec_g_1']\n",
    "    mdet_obj['psfrec_e2'] = d['psfrec_g_2']\n",
    "    mdet_obj['gauss_T_ratio'] = d['gauss_T_ratio']\n",
    "    # mdet_obj['pgauss_T'] = d['pgauss_T']\n",
    "    # mdet_obj['pgauss_T_err'] = d['pgauss_T_err']\n",
    "    mdet_obj['gauss_T'] = d['gauss_T_ratio'] * d['gauss_psf_T']\n",
    "    # mdet_obj['gauss_T_err'] = d['gauss_T_err']\n",
    "    \n",
    "    # obj_list.append(mdet_obj)\n",
    "    if i == 0:\n",
    "        mdet_all = mdet_obj\n",
    "    else:\n",
    "        mdet_all = np.concatenate([mdet_all, mdet_obj])\n",
    "# fio.write('/global/cscratch1/sd/myamamot/des-y6-analysis/y6_measurement/v3/metadetection_v3_flat.fits', mdet_all)"
   ]
  },
  {
   "cell_type": "code",
   "execution_count": null,
   "id": "46b9cbb4-af7a-4486-a338-ee2d273a0b59",
   "metadata": {},
   "outputs": [],
   "source": [
    "np.percentile(mdet_all['pgauss_T'], 75)"
   ]
  },
  {
   "cell_type": "code",
   "execution_count": 12,
   "id": "76f816c5-fb94-4acb-a1b0-22879fbcab3b",
   "metadata": {},
   "outputs": [
    {
     "data": {
      "text/plain": [
       "150093691"
      ]
     },
     "execution_count": 12,
     "metadata": {},
     "output_type": "execute_result"
    }
   ],
   "source": [
    "len(mdet_all)"
   ]
  },
  {
   "cell_type": "code",
   "execution_count": 11,
   "id": "48bd0102-f951-48e4-b0a3-a8acbb4aca34",
   "metadata": {},
   "outputs": [],
   "source": [
    "fio.write('/pscratch/sd/m/myamamot/des-y6-analysis/y6_measurement/v5/metadetection_v5_flat_shape_err.fits', mdet_all)"
   ]
  },
  {
   "cell_type": "code",
   "execution_count": 9,
   "id": "f6f88631-fee7-467b-8a97-e2a94b8efb59",
   "metadata": {},
   "outputs": [
    {
     "data": {
      "text/plain": [
       "31.3759296934466"
      ]
     },
     "execution_count": 9,
     "metadata": {},
     "output_type": "execute_result"
    }
   ],
   "source": [
    "max(mdet_all['w'])"
   ]
  },
  {
   "cell_type": "markdown",
   "id": "1bde8988-3012-4bdc-b610-4a3040b588d7",
   "metadata": {
    "jp-MarkdownHeadingCollapsed": true,
    "tags": []
   },
   "source": [
    "# Analysis Choices"
   ]
  },
  {
   "cell_type": "code",
   "execution_count": null,
   "id": "84901da5-1b75-431b-8e3f-01ae2434bfc4",
   "metadata": {},
   "outputs": [],
   "source": [
    "d = fio.read('/global/cscratch1/sd/myamamot/des-y6-analysis/y6_measurement/mean_shear_stats_final_v1.fits')"
   ]
  },
  {
   "cell_type": "code",
   "execution_count": null,
   "id": "a557e880-015d-42b5-82ff-bd086d846fbe",
   "metadata": {},
   "outputs": [],
   "source": [
    "fig,ax=plt.subplots(nrows=1, ncols=2, figsize=(7,3))\n",
    "ax[0].hist(np.log10(d['wmom_s2n']), bins=500, histtype='step')\n",
    "ax[1].hist(d['wmom_T_ratio'], bins=500, histtype='step')\n",
    "plt.show()"
   ]
  },
  {
   "cell_type": "code",
   "execution_count": null,
   "id": "cf766602-e92e-46bd-b6de-4d1664a5c081",
   "metadata": {},
   "outputs": [],
   "source": [
    "print('S/N cut 300', np.mean((d['wmom_s2n'] < 300)))\n",
    "print('S/N cut 500', np.mean((d['wmom_s2n'] < 500)))"
   ]
  },
  {
   "cell_type": "code",
   "execution_count": null,
   "id": "e40df4c0-1dab-428a-aa7a-f293dfef4198",
   "metadata": {},
   "outputs": [],
   "source": [
    "print('T_ratio cut 2.0', np.mean((d['wmom_T_ratio'] < 2.0)))"
   ]
  },
  {
   "cell_type": "code",
   "execution_count": null,
   "id": "2954b993-4a2b-4c04-b05b-cd9641f50c3a",
   "metadata": {},
   "outputs": [],
   "source": [
    "d_v2_snweight = fio.read('/global/cscratch1/sd/myamamot/des-y6-analysis/y6_measurement/metadetection_v2_snweight.fits')"
   ]
  },
  {
   "cell_type": "code",
   "execution_count": null,
   "id": "19132288-797a-4ebb-a247-78d9c9ad6018",
   "metadata": {},
   "outputs": [],
   "source": [
    "fig,ax=plt.subplots(figsize=(4,3))\n",
    "h = ax.hist(d_v2_snweight['w'], histtype='step', bins=500)\n",
    "wgt2 = 1/(0.07**2 + )\n",
    "h = ax.hist(wgt2, histtype='step', bins=500)\n",
    "ax.set_xlabel('per-galaxy weight')\n",
    "plt.tight_layout()"
   ]
  },
  {
   "cell_type": "code",
   "execution_count": null,
   "id": "00604de3-9a65-41c1-9d4d-2baf88537dfb",
   "metadata": {},
   "outputs": [],
   "source": [
    "fig,ax=plt.subplots(figsize=(4,3))\n",
    "wgt = 1/(0.25**2 + 0.5*(d_v2_snweight['g1_cov'] + d_v2_snweight['g2_cov']))\n",
    "h = ax.hist(wgt, histtype='step', bins=500)\n",
    "ax.set_xlabel('per-galaxy weight')\n",
    "plt.tight_layout()"
   ]
  },
  {
   "cell_type": "markdown",
   "id": "abdbe2f4-d93a-4253-8166-303c1d4bfd24",
   "metadata": {},
   "source": [
    "# HDF5 file"
   ]
  },
  {
   "cell_type": "code",
   "execution_count": 6,
   "id": "d063f7c7-ef1a-442e-b787-6255ebf5ec59",
   "metadata": {},
   "outputs": [],
   "source": [
    "import h5py as h5\n",
    "f = h5.File('/global/cfs/cdirs/des/y6-shear-catalogs/Y6A2_METADETECT_V5a/metadetect_desdmv5a_cutsv5.h5', 'r')"
   ]
  },
  {
   "cell_type": "code",
   "execution_count": 52,
   "id": "8278d76f-9fba-4e23-9d5e-6829d319a5b6",
   "metadata": {},
   "outputs": [],
   "source": [
    "d = f.get('/mdet/2p')"
   ]
  },
  {
   "cell_type": "code",
   "execution_count": 32,
   "id": "e554230b-3062-4288-9ddf-f61ca9f9035a",
   "metadata": {},
   "outputs": [
    {
     "data": {
      "text/plain": [
       "95.68175472498422"
      ]
     },
     "execution_count": 32,
     "metadata": {},
     "output_type": "execute_result"
    }
   ],
   "source": [
    "np.mean(d['ra'])"
   ]
  },
  {
   "cell_type": "code",
   "execution_count": 34,
   "id": "3709412b-e77a-48e1-ac01-e58c2cbc24ab",
   "metadata": {},
   "outputs": [],
   "source": [
    "l = {'ra', 'dec', 'gauss_g_1', 'gauss_g_2'}"
   ]
  },
  {
   "cell_type": "code",
   "execution_count": 56,
   "id": "fbf8199e-f657-4986-9057-545c2a1f4553",
   "metadata": {},
   "outputs": [
    {
     "ename": "AttributeError",
     "evalue": "'tuple' object has no attribute 'encode'",
     "output_type": "error",
     "traceback": [
      "\u001b[0;31m---------------------------------------------------------------------------\u001b[0m",
      "\u001b[0;31mAttributeError\u001b[0m                            Traceback (most recent call last)",
      "Input \u001b[0;32mIn [56]\u001b[0m, in \u001b[0;36m<module>\u001b[0;34m\u001b[0m\n\u001b[0;32m----> 1\u001b[0m \u001b[43md\u001b[49m\u001b[43m[\u001b[49m\u001b[43m(\u001b[49m\u001b[38;5;124;43m'\u001b[39;49m\u001b[38;5;124;43mra\u001b[39;49m\u001b[38;5;124;43m'\u001b[39;49m\u001b[43m,\u001b[49m\u001b[43m \u001b[49m\u001b[38;5;124;43m'\u001b[39;49m\u001b[38;5;124;43mdec\u001b[39;49m\u001b[38;5;124;43m'\u001b[39;49m\u001b[43m)\u001b[49m\u001b[43m]\u001b[49m\n",
      "File \u001b[0;32mh5py/_objects.pyx:54\u001b[0m, in \u001b[0;36mh5py._objects.with_phil.wrapper\u001b[0;34m()\u001b[0m\n",
      "File \u001b[0;32mh5py/_objects.pyx:55\u001b[0m, in \u001b[0;36mh5py._objects.with_phil.wrapper\u001b[0;34m()\u001b[0m\n",
      "File \u001b[0;32m~/miniforge3/envs/eastlake-dev/lib/python3.8/site-packages/h5py/_hl/group.py:288\u001b[0m, in \u001b[0;36mGroup.__getitem__\u001b[0;34m(self, name)\u001b[0m\n\u001b[1;32m    286\u001b[0m         \u001b[38;5;28;01mraise\u001b[39;00m \u001b[38;5;167;01mValueError\u001b[39;00m(\u001b[38;5;124m\"\u001b[39m\u001b[38;5;124mInvalid HDF5 object reference\u001b[39m\u001b[38;5;124m\"\u001b[39m)\n\u001b[1;32m    287\u001b[0m \u001b[38;5;28;01melse\u001b[39;00m:\n\u001b[0;32m--> 288\u001b[0m     oid \u001b[38;5;241m=\u001b[39m h5o\u001b[38;5;241m.\u001b[39mopen(\u001b[38;5;28mself\u001b[39m\u001b[38;5;241m.\u001b[39mid, \u001b[38;5;28;43mself\u001b[39;49m\u001b[38;5;241;43m.\u001b[39;49m\u001b[43m_e\u001b[49m\u001b[43m(\u001b[49m\u001b[43mname\u001b[49m\u001b[43m)\u001b[49m, lapl\u001b[38;5;241m=\u001b[39m\u001b[38;5;28mself\u001b[39m\u001b[38;5;241m.\u001b[39m_lapl)\n\u001b[1;32m    290\u001b[0m otype \u001b[38;5;241m=\u001b[39m h5i\u001b[38;5;241m.\u001b[39mget_type(oid)\n\u001b[1;32m    291\u001b[0m \u001b[38;5;28;01mif\u001b[39;00m otype \u001b[38;5;241m==\u001b[39m h5i\u001b[38;5;241m.\u001b[39mGROUP:\n",
      "File \u001b[0;32m~/miniforge3/envs/eastlake-dev/lib/python3.8/site-packages/h5py/_hl/base.py:200\u001b[0m, in \u001b[0;36mCommonStateObject._e\u001b[0;34m(self, name, lcpl)\u001b[0m\n\u001b[1;32m    198\u001b[0m \u001b[38;5;28;01melse\u001b[39;00m:\n\u001b[1;32m    199\u001b[0m     \u001b[38;5;28;01mtry\u001b[39;00m:\n\u001b[0;32m--> 200\u001b[0m         name \u001b[38;5;241m=\u001b[39m \u001b[43mname\u001b[49m\u001b[38;5;241;43m.\u001b[39;49m\u001b[43mencode\u001b[49m(\u001b[38;5;124m'\u001b[39m\u001b[38;5;124mascii\u001b[39m\u001b[38;5;124m'\u001b[39m)\n\u001b[1;32m    201\u001b[0m         coding \u001b[38;5;241m=\u001b[39m h5t\u001b[38;5;241m.\u001b[39mCSET_ASCII\n\u001b[1;32m    202\u001b[0m     \u001b[38;5;28;01mexcept\u001b[39;00m \u001b[38;5;167;01mUnicodeEncodeError\u001b[39;00m:\n",
      "\u001b[0;31mAttributeError\u001b[0m: 'tuple' object has no attribute 'encode'"
     ]
    }
   ],
   "source": [
    "d[('ra', 'dec')]"
   ]
  },
  {
   "cell_type": "code",
   "execution_count": null,
   "id": "6f1a1cbc-6d5b-4544-9e2b-3ab96cab20da",
   "metadata": {},
   "outputs": [],
   "source": []
  }
 ],
 "metadata": {
  "kernelspec": {
   "display_name": "eastlake-dev",
   "language": "python",
   "name": "eastlake-dev"
  },
  "language_info": {
   "codemirror_mode": {
    "name": "ipython",
    "version": 3
   },
   "file_extension": ".py",
   "mimetype": "text/x-python",
   "name": "python",
   "nbconvert_exporter": "python",
   "pygments_lexer": "ipython3",
   "version": "3.8.8"
  }
 },
 "nbformat": 4,
 "nbformat_minor": 5
}
