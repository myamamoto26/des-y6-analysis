{
 "cells": [
  {
   "cell_type": "code",
   "execution_count": 6,
   "id": "6227fd80-c2ca-43ad-b403-2b7ecf9d4289",
   "metadata": {
    "tags": []
   },
   "outputs": [],
   "source": [
    "import fitsio as fio\n",
    "import numpy as np\n",
    "import pickle\n",
    "from tqdm import tqdm\n",
    "import os, sys"
   ]
  },
  {
   "cell_type": "code",
   "execution_count": 14,
   "id": "8742bf75-16c7-46d3-a050-0dbeb7e7fa9b",
   "metadata": {
    "tags": []
   },
   "outputs": [],
   "source": [
    "mdet_tilename_filepath = \"/global/cfs/cdirs/des/y6-shear-catalogs/Y6A2_METADETECT_V5b/tiles_blinded/mdet_files.txt\"\n",
    "shear_variations_path = \"/pscratch/sd/m/myamamot/des-y6-analysis/y6_measurement/v5b_paper/shear_variations_red\"\n",
    "ccd_x_min = 0 # 48\n",
    "ccd_x_max = 2048 # 2000\n",
    "ccd_y_min = 0 #48\n",
    "ccd_y_max = 4096 #4048\n",
    "cell_side = 128\n",
    "x_side = int(np.ceil((ccd_x_max - ccd_x_min)/cell_side))\n",
    "y_side = int(np.ceil((ccd_y_max - ccd_y_min)/cell_side))"
   ]
  },
  {
   "cell_type": "code",
   "execution_count": 15,
   "id": "5fbbef01-61bf-4507-ba5f-2726aa4c5a8c",
   "metadata": {
    "tags": []
   },
   "outputs": [],
   "source": [
    "def _accum_shear_from_file(ccdres_all, ccdres, x_side, y_side):\n",
    "\n",
    "    # Create ccd number key. \n",
    "    for ccdnum in list(ccdres):\n",
    "        if ccdnum not in list(ccdres_all):\n",
    "            ccdres_all[ccdnum] = {}\n",
    "\n",
    "    cnames = ['g1', 'g2', 'g1p', 'g1m', 'g2p', 'g2m']\n",
    "    for ccdnum in list(ccdres):\n",
    "        for cname in cnames:\n",
    "            if cname not in list(ccdres_all[ccdnum]):\n",
    "                ccdres_all[ccdnum][cname] = np.zeros((y_side, x_side))\n",
    "                ccdres_all[ccdnum][\"num_\" + cname] = np.zeros((y_side, x_side))\n",
    "            if cname in list(ccdres_all[ccdnum]):\n",
    "                rows,cols = np.where(~np.isnan(ccdres[ccdnum][cname]))\n",
    "                np.add.at(ccdres_all[ccdnum][cname], (rows, cols), ccdres[ccdnum][cname][rows, cols])\n",
    "                np.add.at(ccdres_all[ccdnum][\"num_\"+cname], (rows, cols), ccdres[ccdnum][\"num_\"+cname][rows, cols])\n",
    "                # ccdres_all[ccdnum][cname] += ccdres[ccdnum][cname]\n",
    "                # ccdres_all[ccdnum][\"num_\"+cname] += ccdres[ccdnum][\"num_\"+cname]\n",
    "\n",
    "    return ccdres_all"
   ]
  },
  {
   "cell_type": "code",
   "execution_count": 16,
   "id": "56ec925f-8c09-46a2-876f-976d354177b7",
   "metadata": {
    "tags": []
   },
   "outputs": [
    {
     "name": "stderr",
     "output_type": "stream",
     "text": [
      "100%|██████████| 10169/10169 [06:51<00:00, 24.68it/s]"
     ]
    },
    {
     "name": "stdout",
     "output_type": "stream",
     "text": [
      "[32, 33, 34, 35, 39, 40, 41, 45, 46, 47, 51, 52, 53, 56, 57, 22, 23, 24, 28, 29, 30, 36, 37, 42, 43, 44, 48, 49, 50, 54, 55, 58, 59, 60, 62, 1, 2, 3, 5, 6, 7, 8, 9, 10, 13, 14, 15, 19, 20, 21, 26, 27, 25, 4, 11, 16, 17, 18, 12, 38]\n"
     ]
    },
    {
     "name": "stderr",
     "output_type": "stream",
     "text": [
      "\n"
     ]
    }
   ],
   "source": [
    "mdet_f = open(mdet_tilename_filepath, 'r')\n",
    "mdet_fs = mdet_f.read().split('\\n')[:-1]\n",
    "mdet_filenames = [fname.split('/')[-1] for fname in mdet_fs]\n",
    "tilenames = [d.split('_')[0] for d in mdet_filenames]\n",
    "\n",
    "ccdres_all = {}\n",
    "for t in tqdm(tilenames):\n",
    "    with open(os.path.join(shear_variations_path, 'mdet_shear_focal_plane_'+t+'.pickle'), 'rb') as handle:\n",
    "        ccdres = pickle.load(handle)\n",
    "    ccdres_all = _accum_shear_from_file(ccdres_all, ccdres, x_side, y_side)\n",
    "print(list(ccdres_all))"
   ]
  },
  {
   "cell_type": "code",
   "execution_count": 17,
   "id": "d679800f-6594-469f-a06d-d120a56d46aa",
   "metadata": {
    "tags": []
   },
   "outputs": [],
   "source": [
    "with open(os.path.join(shear_variations_path, 'mdet_shear_focal_plane_all.pickle'), 'wb') as raw:\n",
    "    pickle.dump(ccdres_all, raw, protocol=pickle.HIGHEST_PROTOCOL)"
   ]
  },
  {
   "cell_type": "code",
   "execution_count": null,
   "id": "9c5af7d3-6b9f-4bf4-b562-2b19c6bbadf7",
   "metadata": {},
   "outputs": [],
   "source": []
  }
 ],
 "metadata": {
  "kernelspec": {
   "display_name": "eastlake-dev",
   "language": "python",
   "name": "eastlake-dev"
  },
  "language_info": {
   "codemirror_mode": {
    "name": "ipython",
    "version": 3
   },
   "file_extension": ".py",
   "mimetype": "text/x-python",
   "name": "python",
   "nbconvert_exporter": "python",
   "pygments_lexer": "ipython3",
   "version": "3.8.8"
  }
 },
 "nbformat": 4,
 "nbformat_minor": 5
}
